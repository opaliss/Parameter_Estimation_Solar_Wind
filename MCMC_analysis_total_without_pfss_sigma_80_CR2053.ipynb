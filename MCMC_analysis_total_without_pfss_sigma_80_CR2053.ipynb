{
 "cells": [
  {
   "cell_type": "code",
   "execution_count": 1,
   "id": "0141d4b2",
   "metadata": {},
   "outputs": [],
   "source": [
    "import numpy as np \n",
    "import emcee\n",
    "import corner\n",
    "import h5py\n",
    "from sunpy.coordinates.sun import carrington_rotation_time\n",
    "import astropy.units as u\n",
    "import os\n",
    "import scipy"
   ]
  },
  {
   "cell_type": "code",
   "execution_count": 2,
   "id": "527f17fc",
   "metadata": {},
   "outputs": [],
   "source": [
    "import matplotlib.pyplot as plt\n",
    "import matplotlib\n",
    "font = {'family' : 'serif',\n",
    "        'size'   : 15}\n",
    "\n",
    "matplotlib.rc('font', **font)\n",
    "matplotlib.rc('xtick', labelsize=15) \n",
    "matplotlib.rc('ytick', labelsize=15) "
   ]
  },
  {
   "cell_type": "markdown",
   "id": "55d96457",
   "metadata": {},
   "source": [
    "## Bayesian Inference and Markov Chain Monte Carlo for the Ambient Solar Wind Speed"
   ]
  },
  {
   "cell_type": "markdown",
   "id": "b951a3a7",
   "metadata": {},
   "source": [
    "In this problem, we use Bayesian inference and Markov Chain Monte Carlo (MCMC) to find the parameters of\n",
    "a chain of models that are used in space weather operational forecasting (of the ambient solar wind velocity near Earth). The model and data are connected by \n",
    "$$\n",
    "\\mathbf{y} = \\mathcal{M}(\\mathbf{\\theta}) + \\mathbf{\\eta}\n",
    "$$\n",
    "where $\\mathbf{\\theta} = \\{v_{1}, \\alpha, \\beta, w, \\gamma\\} \\in \\mathbb{R}^{5}$ is the set of uncertain parameters, $\\mathcal{M}$ is the chain of *PFSS-WSA-HUX* models, $\\mathbf{\\eta}$ represents the discrepancies between the model and data, and is typically assumed to be Gaussian distributed with mean zero and covariance matrix $\\mathbf{\\Sigma}$ (positive definite), and $\\mathbf{y}$ is the the radial velocity in 1hr cadance interval at L1. The radial velocity at L1 is meassured via SWEPAM monior on ACE. "
   ]
  },
  {
   "cell_type": "markdown",
   "id": "7f507c5c",
   "metadata": {},
   "source": [
    "### Formulation of Bayesian posterior distribution for the model parameters $\\mathbf{\\theta} = [v_{1}, \\alpha, \\beta, w, \\gamma]$ given the above information.\n",
    "\n",
    "\n",
    "The prior is given by \n",
    "$$\n",
    "\\mathbb{P}(\\theta) = \\mathbb{P}(v_{1})\\mathbb{P}(\\alpha)\\mathbb{P}(\\beta)\\mathbb{P}(w)\\mathbb{P}(\\gamma) = \\left\\{\n",
    "\\begin{array}{ll}\n",
    "      \\frac{1}{44.22} & \\qquad 550 \\leq v_{1} \\leq 950, \\qquad 0.05 \\leq \\alpha \\leq 0.5, \\qquad 1\\leq \\beta \\leq 1.75, \\qquad 0.01 \\leq w \\leq 0.4, \\qquad 0.06 \\leq \\gamma \\leq 0.9 \\\\\n",
    "      0 & \\text{otherwise} \\\\\n",
    "\\end{array} \n",
    "\\right. \n",
    "$$\n",
    "since the uncertain parameters $v_{1}, \\alpha, \\beta, w, \\gamma$ are independent."
   ]
  },
  {
   "cell_type": "markdown",
   "id": "b38524a6",
   "metadata": {},
   "source": [
    "The posterior is given by (from Bayes' rule):\n",
    "$$\n",
    "\\mathbb{P}(\\theta | \\mathbf{y}) = \\frac{\\mathbb{P}(\\mathbf{y}|\\theta) \\mathbb{P}(\\theta)}{\\mathbb{P}(\\mathbf{y})} = \\frac{\\mathbb{P}(\\mathbf{y}|\\theta) \\mathbb{P}(\\theta)}{\\int_{\\mathbb{R}^{7}} \\mathbb{P}(\\mathbf{y}|\\theta)\\mathbb{P}(\\theta)\\text{d}\\mathbf{y}} \\propto \\mathbb{P}(\\mathbf{y}|\\theta) \\mathbb{P}(\\theta) \n",
    "$$\n"
   ]
  },
  {
   "cell_type": "markdown",
   "id": "ee489f8b",
   "metadata": {},
   "source": [
    "The log-posterior is given by \n",
    "$$\n",
    "\\log{\\mathbb{P}(\\theta | \\mathbf{y})} = \\log{\\frac{\\left[\\mathbb{P}(\\mathbf{y}|\\theta) \\mathbb{P}(\\theta)\\right]}{\\int_{\\mathbb{R}^{7}} \\mathbb{P}(\\mathbf{y}|\\theta)\\mathbb{P}(\\theta)\\text{d}\\mathbf{y}}} = \\log{\\mathbb{P}(\\mathbf{y}|\\theta)} + \\log{\\mathbb{P}(\\theta)} - \\log{\\int_{\\mathbb{R}^{7}} \\mathbb{P}(\\mathbf{y}|\\theta)\\mathbb{P}(\\theta)\\text{d}\\mathbf{y}}\n",
    "$$\n",
    "\n",
    "The log-prior is given by \n",
    "$$\n",
    "\\log{\\mathbb{P}(\\theta)} = \\left\\{\n",
    "\\begin{array}{ll}\n",
    "      \\log{\\frac{1}{22.4}} &\\qquad 550 \\leq v_{1} \\leq 950, \\qquad 0.05 \\leq \\alpha \\leq 0.5, \\qquad 1\\leq \\beta \\leq 1.75, \\qquad 0.01 \\leq w \\leq 0.4, \\qquad 0.06 \\leq \\gamma \\leq 0.9 \\\\\n",
    "      -\\infty & \\text{otherwise} \\\\\n",
    "\\end{array} \n",
    "\\right. \n",
    "$$\n"
   ]
  },
  {
   "cell_type": "markdown",
   "id": "7d3b920c",
   "metadata": {},
   "source": [
    "The likelihood function  updates our belief state by measuring the misfit between the data $\\mathbf{y}$ and model predictions $\\mathcal{M}(\\mathbf{\\theta})$ with a specific parameter set. Since we assume additive Gaussian measurement noise wth zero mean, i.e. $\\eta_j  \\in \\mathcal{N}(\\mathbf{\\mu}= \\mathbf{0},\\mathbf{\\Sigma})$, the measurements are $\\mathbf{y}_{j}$ independent across observations, conditional on the parameters $\\mathbf{\\theta}$, i.e., $\\mathbf{y}_{1}$ and $\\mathbf{y}_{2}$ are independent given $\\mathbf{\\theta}_{1}$ and $\\mathbf{\\theta}_{2}$. Using the independence assumption, we can write the likelihood function as\n",
    "$$\n",
    "\\mathbb{P}(\\mathbf{y}|\\theta) =  \\prod_{i=1}^{n} \\frac{1}{(2\\pi)^{7/2} |\\mathbf{\\Sigma}|^{1/2}} \\exp \\left( - \\frac{1}{2}\\left(\\mathbf{y}_{i} - \\mathcal{M}(\\theta)\\right)^{\\top} \\mathbf{\\Sigma}^{-1} \\left(\\mathbf{y}_{i} - \\mathcal{M}(\\theta)\\right)\\right) \\propto  \\exp \\left( -\\sum_{i=1}^{n} \\frac{1}{2}\\left(\\mathbf{y}_{i} - \\mathcal{M}(\\theta)\\right)^{\\top} \\mathbf{\\Sigma}^{-1} \\left(\\mathbf{y}_{i} - \\mathcal{M}(\\theta)\\right)\\right).\n",
    "$$"
   ]
  },
  {
   "cell_type": "markdown",
   "id": "ea7f4660",
   "metadata": {},
   "source": [
    "### MCMC\n",
    "MCMC is a procedure for generating a random walk in the parameter space that, over time, draws a representative set of samples from the distribution. Each point in a Markov chain $X(t_{i})$ depends only on the position of the previous step $X(t_{i−1})$. The emcee method involves simultaneously evolving an ensemble of $K$ walkers $S = {X_{k}}$ where the proposal distribution for one walker $k$ is based on the current positions of the $K − 1$ walkers in the complementary ensemble $S_{[k]} = \\{X_{j} , \\forall j\\neq k\\}$. Here, we use a Python implemtation of the affine-invariant ensemble sampler for Markov chain Monte Carlo (MCMC) proposed by Goodman & Weare (2010)."
   ]
  },
  {
   "cell_type": "code",
   "execution_count": 8,
   "id": "1ea3a4fe",
   "metadata": {},
   "outputs": [
    {
     "ename": "AttributeError",
     "evalue": "You must run the sampler with 'store == True' before accessing the results",
     "output_type": "error",
     "traceback": [
      "\u001b[0;31m---------------------------------------------------------------------------\u001b[0m",
      "\u001b[0;31mAttributeError\u001b[0m                            Traceback (most recent call last)",
      "Input \u001b[0;32mIn [8]\u001b[0m, in \u001b[0;36m<cell line: 4>\u001b[0;34m()\u001b[0m\n\u001b[1;32m      1\u001b[0m reader \u001b[38;5;241m=\u001b[39m emcee\u001b[38;5;241m.\u001b[39mbackends\u001b[38;5;241m.\u001b[39mHDFBackend(\u001b[38;5;124m\"\u001b[39m\u001b[38;5;124mMCMC_results/CR_total_without_pfss_sigma_80_CR_2053.h5\u001b[39m\u001b[38;5;124m\"\u001b[39m)\n\u001b[1;32m      3\u001b[0m nburnin \u001b[38;5;241m=\u001b[39m \u001b[38;5;241m0\u001b[39m\n\u001b[0;32m----> 4\u001b[0m samples \u001b[38;5;241m=\u001b[39m \u001b[43mreader\u001b[49m\u001b[38;5;241;43m.\u001b[39;49m\u001b[43mget_chain\u001b[49m\u001b[43m(\u001b[49m\u001b[43mflat\u001b[49m\u001b[38;5;241;43m=\u001b[39;49m\u001b[38;5;28;43;01mFalse\u001b[39;49;00m\u001b[43m,\u001b[49m\u001b[43m \u001b[49m\u001b[43mdiscard\u001b[49m\u001b[38;5;241;43m=\u001b[39;49m\u001b[43mnburnin\u001b[49m\u001b[43m)\u001b[49m\n\u001b[1;32m      5\u001b[0m samples_flatten  \u001b[38;5;241m=\u001b[39m reader\u001b[38;5;241m.\u001b[39mget_chain(flat\u001b[38;5;241m=\u001b[39m\u001b[38;5;28;01mTrue\u001b[39;00m, discard\u001b[38;5;241m=\u001b[39mnburnin)\n\u001b[1;32m      6\u001b[0m log_prob_samples \u001b[38;5;241m=\u001b[39m reader\u001b[38;5;241m.\u001b[39mget_log_prob(flat\u001b[38;5;241m=\u001b[39m\u001b[38;5;28;01mFalse\u001b[39;00m, discard\u001b[38;5;241m=\u001b[39mnburnin)\n",
      "File \u001b[0;32m/opt/anaconda3/envs/hux-rom/lib/python3.9/site-packages/emcee/backends/backend.py:75\u001b[0m, in \u001b[0;36mBackend.get_chain\u001b[0;34m(self, **kwargs)\u001b[0m\n\u001b[1;32m     60\u001b[0m \u001b[38;5;28;01mdef\u001b[39;00m \u001b[38;5;21mget_chain\u001b[39m(\u001b[38;5;28mself\u001b[39m, \u001b[38;5;241m*\u001b[39m\u001b[38;5;241m*\u001b[39mkwargs):\n\u001b[1;32m     61\u001b[0m     \u001b[38;5;124;03m\"\"\"Get the stored chain of MCMC samples\u001b[39;00m\n\u001b[1;32m     62\u001b[0m \n\u001b[1;32m     63\u001b[0m \u001b[38;5;124;03m    Args:\u001b[39;00m\n\u001b[0;32m   (...)\u001b[0m\n\u001b[1;32m     73\u001b[0m \n\u001b[1;32m     74\u001b[0m \u001b[38;5;124;03m    \"\"\"\u001b[39;00m\n\u001b[0;32m---> 75\u001b[0m     \u001b[38;5;28;01mreturn\u001b[39;00m \u001b[38;5;28;43mself\u001b[39;49m\u001b[38;5;241;43m.\u001b[39;49m\u001b[43mget_value\u001b[49m\u001b[43m(\u001b[49m\u001b[38;5;124;43m\"\u001b[39;49m\u001b[38;5;124;43mchain\u001b[39;49m\u001b[38;5;124;43m\"\u001b[39;49m\u001b[43m,\u001b[49m\u001b[43m \u001b[49m\u001b[38;5;241;43m*\u001b[39;49m\u001b[38;5;241;43m*\u001b[39;49m\u001b[43mkwargs\u001b[49m\u001b[43m)\u001b[49m\n",
      "File \u001b[0;32m/opt/anaconda3/envs/hux-rom/lib/python3.9/site-packages/emcee/backends/hdf.py:152\u001b[0m, in \u001b[0;36mHDFBackend.get_value\u001b[0;34m(self, name, flat, thin, discard)\u001b[0m\n\u001b[1;32m    150\u001b[0m \u001b[38;5;28;01mdef\u001b[39;00m \u001b[38;5;21mget_value\u001b[39m(\u001b[38;5;28mself\u001b[39m, name, flat\u001b[38;5;241m=\u001b[39m\u001b[38;5;28;01mFalse\u001b[39;00m, thin\u001b[38;5;241m=\u001b[39m\u001b[38;5;241m1\u001b[39m, discard\u001b[38;5;241m=\u001b[39m\u001b[38;5;241m0\u001b[39m):\n\u001b[1;32m    151\u001b[0m     \u001b[38;5;28;01mif\u001b[39;00m \u001b[38;5;129;01mnot\u001b[39;00m \u001b[38;5;28mself\u001b[39m\u001b[38;5;241m.\u001b[39minitialized:\n\u001b[0;32m--> 152\u001b[0m         \u001b[38;5;28;01mraise\u001b[39;00m \u001b[38;5;167;01mAttributeError\u001b[39;00m(\n\u001b[1;32m    153\u001b[0m             \u001b[38;5;124m\"\u001b[39m\u001b[38;5;124mYou must run the sampler with \u001b[39m\u001b[38;5;124m\"\u001b[39m\n\u001b[1;32m    154\u001b[0m             \u001b[38;5;124m\"\u001b[39m\u001b[38;5;124m'\u001b[39m\u001b[38;5;124mstore == True\u001b[39m\u001b[38;5;124m'\u001b[39m\u001b[38;5;124m before accessing the \u001b[39m\u001b[38;5;124m\"\u001b[39m\n\u001b[1;32m    155\u001b[0m             \u001b[38;5;124m\"\u001b[39m\u001b[38;5;124mresults\u001b[39m\u001b[38;5;124m\"\u001b[39m\n\u001b[1;32m    156\u001b[0m         )\n\u001b[1;32m    157\u001b[0m     \u001b[38;5;28;01mwith\u001b[39;00m \u001b[38;5;28mself\u001b[39m\u001b[38;5;241m.\u001b[39mopen() \u001b[38;5;28;01mas\u001b[39;00m f:\n\u001b[1;32m    158\u001b[0m         g \u001b[38;5;241m=\u001b[39m f[\u001b[38;5;28mself\u001b[39m\u001b[38;5;241m.\u001b[39mname]\n",
      "\u001b[0;31mAttributeError\u001b[0m: You must run the sampler with 'store == True' before accessing the results"
     ]
    }
   ],
   "source": [
    "reader = emcee.backends.HDFBackend(\"MCMC_results/CR_total_without_pfss_sigma_80_CR_2053.h5\")\n",
    "\n",
    "nburnin = 0\n",
    "samples = reader.get_chain(flat=False, discard=nburnin)\n",
    "samples_flatten  = reader.get_chain(flat=True, discard=nburnin)\n",
    "log_prob_samples = reader.get_log_prob(flat=False, discard=nburnin)\n",
    "log_prior_samples = reader.get_blobs(flat=False, discard=nburnin)\n",
    "\n",
    "n_iter = np.shape(samples)[0]\n",
    "n_walkers = np.shape(samples)[1]\n",
    "n_dim = np.shape(samples)[2]\n",
    "\n",
    "print(\"flat chain shape: {0}\".format(samples.shape))\n",
    "print(\"flat log prob shape: {0}\".format(log_prob_samples.shape))\n",
    "print(\"num of iterations: {0}\".format(reader.iteration))"
   ]
  },
  {
   "cell_type": "code",
   "execution_count": 4,
   "id": "e6a43a8c",
   "metadata": {},
   "outputs": [
    {
     "ename": "FileNotFoundError",
     "evalue": "[Errno 2] Unable to open file (unable to open file: name = 'MCMC_results/CR_total_without_pfss_sigma_80_CR_2052.h5', errno = 2, error message = 'No such file or directory', flags = 0, o_flags = 0)",
     "output_type": "error",
     "traceback": [
      "\u001b[0;31m---------------------------------------------------------------------------\u001b[0m",
      "\u001b[0;31mFileNotFoundError\u001b[0m                         Traceback (most recent call last)",
      "Input \u001b[0;32mIn [4]\u001b[0m, in \u001b[0;36m<cell line: 1>\u001b[0;34m()\u001b[0m\n\u001b[0;32m----> 1\u001b[0m \u001b[38;5;28mprint\u001b[39m(\u001b[38;5;124m\"\u001b[39m\u001b[38;5;124macceptance ratio:\u001b[39m\u001b[38;5;124m\"\u001b[39m, np\u001b[38;5;241m.\u001b[39mmean(\u001b[43mreader\u001b[49m\u001b[38;5;241;43m.\u001b[39;49m\u001b[43maccepted\u001b[49m\u001b[38;5;241m/\u001b[39m(reader\u001b[38;5;241m.\u001b[39miteration)))\n",
      "File \u001b[0;32m/opt/anaconda3/envs/hux-rom/lib/python3.9/site-packages/emcee/backends/hdf.py:190\u001b[0m, in \u001b[0;36mHDFBackend.accepted\u001b[0;34m(self)\u001b[0m\n\u001b[1;32m    188\u001b[0m \u001b[38;5;129m@property\u001b[39m\n\u001b[1;32m    189\u001b[0m \u001b[38;5;28;01mdef\u001b[39;00m \u001b[38;5;21maccepted\u001b[39m(\u001b[38;5;28mself\u001b[39m):\n\u001b[0;32m--> 190\u001b[0m     \u001b[38;5;28;01mwith\u001b[39;00m \u001b[38;5;28;43mself\u001b[39;49m\u001b[38;5;241;43m.\u001b[39;49m\u001b[43mopen\u001b[49m\u001b[43m(\u001b[49m\u001b[43m)\u001b[49m \u001b[38;5;28;01mas\u001b[39;00m f:\n\u001b[1;32m    191\u001b[0m         \u001b[38;5;28;01mreturn\u001b[39;00m f[\u001b[38;5;28mself\u001b[39m\u001b[38;5;241m.\u001b[39mname][\u001b[38;5;124m\"\u001b[39m\u001b[38;5;124maccepted\u001b[39m\u001b[38;5;124m\"\u001b[39m][\u001b[38;5;241m.\u001b[39m\u001b[38;5;241m.\u001b[39m\u001b[38;5;241m.\u001b[39m]\n",
      "File \u001b[0;32m/opt/anaconda3/envs/hux-rom/lib/python3.9/site-packages/emcee/backends/hdf.py:97\u001b[0m, in \u001b[0;36mHDFBackend.open\u001b[0;34m(self, mode)\u001b[0m\n\u001b[1;32m     91\u001b[0m \u001b[38;5;28;01mif\u001b[39;00m \u001b[38;5;28mself\u001b[39m\u001b[38;5;241m.\u001b[39mread_only \u001b[38;5;129;01mand\u001b[39;00m mode \u001b[38;5;241m!=\u001b[39m \u001b[38;5;124m\"\u001b[39m\u001b[38;5;124mr\u001b[39m\u001b[38;5;124m\"\u001b[39m:\n\u001b[1;32m     92\u001b[0m     \u001b[38;5;28;01mraise\u001b[39;00m \u001b[38;5;167;01mRuntimeError\u001b[39;00m(\n\u001b[1;32m     93\u001b[0m         \u001b[38;5;124m\"\u001b[39m\u001b[38;5;124mThe backend has been loaded in read-only \u001b[39m\u001b[38;5;124m\"\u001b[39m\n\u001b[1;32m     94\u001b[0m         \u001b[38;5;124m\"\u001b[39m\u001b[38;5;124mmode. Set `read_only = False` to make \u001b[39m\u001b[38;5;124m\"\u001b[39m\n\u001b[1;32m     95\u001b[0m         \u001b[38;5;124m\"\u001b[39m\u001b[38;5;124mchanges.\u001b[39m\u001b[38;5;124m\"\u001b[39m\n\u001b[1;32m     96\u001b[0m     )\n\u001b[0;32m---> 97\u001b[0m f \u001b[38;5;241m=\u001b[39m \u001b[43mh5py\u001b[49m\u001b[38;5;241;43m.\u001b[39;49m\u001b[43mFile\u001b[49m\u001b[43m(\u001b[49m\u001b[38;5;28;43mself\u001b[39;49m\u001b[38;5;241;43m.\u001b[39;49m\u001b[43mfilename\u001b[49m\u001b[43m,\u001b[49m\u001b[43m \u001b[49m\u001b[43mmode\u001b[49m\u001b[43m)\u001b[49m\n\u001b[1;32m     98\u001b[0m \u001b[38;5;28;01mif\u001b[39;00m \u001b[38;5;129;01mnot\u001b[39;00m \u001b[38;5;28mself\u001b[39m\u001b[38;5;241m.\u001b[39mdtype_set \u001b[38;5;129;01mand\u001b[39;00m \u001b[38;5;28mself\u001b[39m\u001b[38;5;241m.\u001b[39mname \u001b[38;5;129;01min\u001b[39;00m f:\n\u001b[1;32m     99\u001b[0m     g \u001b[38;5;241m=\u001b[39m f[\u001b[38;5;28mself\u001b[39m\u001b[38;5;241m.\u001b[39mname]\n",
      "File \u001b[0;32m/opt/anaconda3/envs/hux-rom/lib/python3.9/site-packages/h5py/_hl/files.py:444\u001b[0m, in \u001b[0;36mFile.__init__\u001b[0;34m(self, name, mode, driver, libver, userblock_size, swmr, rdcc_nslots, rdcc_nbytes, rdcc_w0, track_order, fs_strategy, fs_persist, fs_threshold, **kwds)\u001b[0m\n\u001b[1;32m    442\u001b[0m \u001b[38;5;28;01mwith\u001b[39;00m phil:\n\u001b[1;32m    443\u001b[0m     fapl \u001b[38;5;241m=\u001b[39m make_fapl(driver, libver, rdcc_nslots, rdcc_nbytes, rdcc_w0, \u001b[38;5;241m*\u001b[39m\u001b[38;5;241m*\u001b[39mkwds)\n\u001b[0;32m--> 444\u001b[0m     fid \u001b[38;5;241m=\u001b[39m \u001b[43mmake_fid\u001b[49m\u001b[43m(\u001b[49m\u001b[43mname\u001b[49m\u001b[43m,\u001b[49m\u001b[43m \u001b[49m\u001b[43mmode\u001b[49m\u001b[43m,\u001b[49m\u001b[43m \u001b[49m\u001b[43muserblock_size\u001b[49m\u001b[43m,\u001b[49m\n\u001b[1;32m    445\u001b[0m \u001b[43m                   \u001b[49m\u001b[43mfapl\u001b[49m\u001b[43m,\u001b[49m\u001b[43m \u001b[49m\u001b[43mfcpl\u001b[49m\u001b[38;5;241;43m=\u001b[39;49m\u001b[43mmake_fcpl\u001b[49m\u001b[43m(\u001b[49m\u001b[43mtrack_order\u001b[49m\u001b[38;5;241;43m=\u001b[39;49m\u001b[43mtrack_order\u001b[49m\u001b[43m,\u001b[49m\u001b[43m \u001b[49m\u001b[43mfs_strategy\u001b[49m\u001b[38;5;241;43m=\u001b[39;49m\u001b[43mfs_strategy\u001b[49m\u001b[43m,\u001b[49m\n\u001b[1;32m    446\u001b[0m \u001b[43m                   \u001b[49m\u001b[43mfs_persist\u001b[49m\u001b[38;5;241;43m=\u001b[39;49m\u001b[43mfs_persist\u001b[49m\u001b[43m,\u001b[49m\u001b[43m \u001b[49m\u001b[43mfs_threshold\u001b[49m\u001b[38;5;241;43m=\u001b[39;49m\u001b[43mfs_threshold\u001b[49m\u001b[43m)\u001b[49m\u001b[43m,\u001b[49m\n\u001b[1;32m    447\u001b[0m \u001b[43m                   \u001b[49m\u001b[43mswmr\u001b[49m\u001b[38;5;241;43m=\u001b[39;49m\u001b[43mswmr\u001b[49m\u001b[43m)\u001b[49m\n\u001b[1;32m    449\u001b[0m \u001b[38;5;28;01mif\u001b[39;00m \u001b[38;5;28misinstance\u001b[39m(libver, \u001b[38;5;28mtuple\u001b[39m):\n\u001b[1;32m    450\u001b[0m     \u001b[38;5;28mself\u001b[39m\u001b[38;5;241m.\u001b[39m_libver \u001b[38;5;241m=\u001b[39m libver\n",
      "File \u001b[0;32m/opt/anaconda3/envs/hux-rom/lib/python3.9/site-packages/h5py/_hl/files.py:199\u001b[0m, in \u001b[0;36mmake_fid\u001b[0;34m(name, mode, userblock_size, fapl, fcpl, swmr)\u001b[0m\n\u001b[1;32m    197\u001b[0m     \u001b[38;5;28;01mif\u001b[39;00m swmr \u001b[38;5;129;01mand\u001b[39;00m swmr_support:\n\u001b[1;32m    198\u001b[0m         flags \u001b[38;5;241m|\u001b[39m\u001b[38;5;241m=\u001b[39m h5f\u001b[38;5;241m.\u001b[39mACC_SWMR_READ\n\u001b[0;32m--> 199\u001b[0m     fid \u001b[38;5;241m=\u001b[39m \u001b[43mh5f\u001b[49m\u001b[38;5;241;43m.\u001b[39;49m\u001b[43mopen\u001b[49m\u001b[43m(\u001b[49m\u001b[43mname\u001b[49m\u001b[43m,\u001b[49m\u001b[43m \u001b[49m\u001b[43mflags\u001b[49m\u001b[43m,\u001b[49m\u001b[43m \u001b[49m\u001b[43mfapl\u001b[49m\u001b[38;5;241;43m=\u001b[39;49m\u001b[43mfapl\u001b[49m\u001b[43m)\u001b[49m\n\u001b[1;32m    200\u001b[0m \u001b[38;5;28;01melif\u001b[39;00m mode \u001b[38;5;241m==\u001b[39m \u001b[38;5;124m'\u001b[39m\u001b[38;5;124mr+\u001b[39m\u001b[38;5;124m'\u001b[39m:\n\u001b[1;32m    201\u001b[0m     fid \u001b[38;5;241m=\u001b[39m h5f\u001b[38;5;241m.\u001b[39mopen(name, h5f\u001b[38;5;241m.\u001b[39mACC_RDWR, fapl\u001b[38;5;241m=\u001b[39mfapl)\n",
      "File \u001b[0;32mh5py/_objects.pyx:54\u001b[0m, in \u001b[0;36mh5py._objects.with_phil.wrapper\u001b[0;34m()\u001b[0m\n",
      "File \u001b[0;32mh5py/_objects.pyx:55\u001b[0m, in \u001b[0;36mh5py._objects.with_phil.wrapper\u001b[0;34m()\u001b[0m\n",
      "File \u001b[0;32mh5py/h5f.pyx:100\u001b[0m, in \u001b[0;36mh5py.h5f.open\u001b[0;34m()\u001b[0m\n",
      "\u001b[0;31mFileNotFoundError\u001b[0m: [Errno 2] Unable to open file (unable to open file: name = 'MCMC_results/CR_total_without_pfss_sigma_80_CR_2052.h5', errno = 2, error message = 'No such file or directory', flags = 0, o_flags = 0)"
     ]
    }
   ],
   "source": [
    "print(\"acceptance ratio:\", np.mean(reader.accepted/(reader.iteration)))"
   ]
  },
  {
   "cell_type": "markdown",
   "id": "b234527e",
   "metadata": {},
   "source": [
    "### Log-likelihood in parameter space"
   ]
  },
  {
   "cell_type": "code",
   "execution_count": 5,
   "id": "37bf8643",
   "metadata": {},
   "outputs": [
    {
     "ename": "NameError",
     "evalue": "name 'n_walkers' is not defined",
     "output_type": "error",
     "traceback": [
      "\u001b[0;31m---------------------------------------------------------------------------\u001b[0m",
      "\u001b[0;31mNameError\u001b[0m                                 Traceback (most recent call last)",
      "Input \u001b[0;32mIn [5]\u001b[0m, in \u001b[0;36m<cell line: 2>\u001b[0;34m()\u001b[0m\n\u001b[1;32m      1\u001b[0m fig, ax \u001b[38;5;241m=\u001b[39m plt\u001b[38;5;241m.\u001b[39msubplots(figsize\u001b[38;5;241m=\u001b[39m(\u001b[38;5;241m10\u001b[39m, \u001b[38;5;241m2\u001b[39m))\n\u001b[0;32m----> 2\u001b[0m \u001b[38;5;28;01mfor\u001b[39;00m ii \u001b[38;5;129;01min\u001b[39;00m \u001b[38;5;28mrange\u001b[39m(\u001b[43mn_walkers\u001b[49m):\n\u001b[1;32m      3\u001b[0m     _ \u001b[38;5;241m=\u001b[39m ax\u001b[38;5;241m.\u001b[39mplot(\u001b[38;5;241m-\u001b[39mlog_prob_samples[:, ii])\n\u001b[1;32m      4\u001b[0m _ \u001b[38;5;241m=\u001b[39m ax\u001b[38;5;241m.\u001b[39mset_yscale(\u001b[38;5;124m\"\u001b[39m\u001b[38;5;124mlog\u001b[39m\u001b[38;5;124m\"\u001b[39m)\n",
      "\u001b[0;31mNameError\u001b[0m: name 'n_walkers' is not defined"
     ]
    },
    {
     "data": {
      "image/png": "[encoded data removed]",
      "text/plain": [
       "<Figure size 1000x200 with 1 Axes>"
      ]
     },
     "metadata": {},
     "output_type": "display_data"
    }
   ],
   "source": [
    "fig, ax = plt.subplots(figsize=(10, 2))\n",
    "for ii in range(n_walkers):\n",
    "    _ = ax.plot(-log_prob_samples[:, ii])\n",
    "_ = ax.set_yscale(\"log\")\n",
    "#_ = ax.set_xlim(1, n_iter)\n",
    "_ = ax.set_ylabel(\"Likelihood\")\n",
    "_ = ax.set_xlabel(\"Number of iterations\")"
   ]
  },
  {
   "cell_type": "markdown",
   "id": "6fe3bee2",
   "metadata": {},
   "source": [
    "### A corner plot to show correlation (or lack thereof) of the seven model parameters."
   ]
  },
  {
   "cell_type": "code",
   "execution_count": 17,
   "id": "1043667e",
   "metadata": {},
   "outputs": [
    {
     "ename": "NameError",
     "evalue": "name 'samples_flatten' is not defined",
     "output_type": "error",
     "traceback": [
      "\u001b[0;31m---------------------------------------------------------------------------\u001b[0m",
      "\u001b[0;31mNameError\u001b[0m                                 Traceback (most recent call last)",
      "Input \u001b[0;32mIn [17]\u001b[0m, in \u001b[0;36m<cell line: 3>\u001b[0;34m()\u001b[0m\n\u001b[1;32m      1\u001b[0m labels_list \u001b[38;5;241m=\u001b[39m [\u001b[38;5;124mr\u001b[39m\u001b[38;5;124m\"\u001b[39m\u001b[38;5;124m$v_\u001b[39m\u001b[38;5;132;01m{1}\u001b[39;00m\u001b[38;5;124m$\u001b[39m\u001b[38;5;124m\"\u001b[39m, \u001b[38;5;124mr\u001b[39m\u001b[38;5;124m\"\u001b[39m\u001b[38;5;124m$\u001b[39m\u001b[38;5;124m\\\u001b[39m\u001b[38;5;124malpha$\u001b[39m\u001b[38;5;124m\"\u001b[39m, \u001b[38;5;124mr\u001b[39m\u001b[38;5;124m\"\u001b[39m\u001b[38;5;124m$\u001b[39m\u001b[38;5;124m\\\u001b[39m\u001b[38;5;124mbeta$\u001b[39m\u001b[38;5;124m\"\u001b[39m, \u001b[38;5;124mr\u001b[39m\u001b[38;5;124m\"\u001b[39m\u001b[38;5;124m$w$\u001b[39m\u001b[38;5;124m\"\u001b[39m, \u001b[38;5;124mr\u001b[39m\u001b[38;5;124m\"\u001b[39m\u001b[38;5;124m$\u001b[39m\u001b[38;5;124m\\\u001b[39m\u001b[38;5;124mgamma$\u001b[39m\u001b[38;5;124m\"\u001b[39m]\n\u001b[1;32m      2\u001b[0m MAP \u001b[38;5;241m=\u001b[39m []\n\u001b[0;32m----> 3\u001b[0m fig \u001b[38;5;241m=\u001b[39m corner\u001b[38;5;241m.\u001b[39mcorner(\u001b[43msamples_flatten\u001b[49m, figsize\u001b[38;5;241m=\u001b[39m(\u001b[38;5;241m4\u001b[39m, \u001b[38;5;241m3\u001b[39m), \n\u001b[1;32m      4\u001b[0m                     fontsize\u001b[38;5;241m=\u001b[39m\u001b[38;5;241m30\u001b[39m, smooth\u001b[38;5;241m=\u001b[39m\u001b[38;5;241m1\u001b[39m, \n\u001b[1;32m      5\u001b[0m                     no_fill_contours\u001b[38;5;241m=\u001b[39m\u001b[38;5;28;01mTrue\u001b[39;00m, plot_contours\u001b[38;5;241m=\u001b[39m\u001b[38;5;28;01mTrue\u001b[39;00m, \n\u001b[1;32m      6\u001b[0m                     plot_density \u001b[38;5;241m=\u001b[39m\u001b[38;5;124m\"\u001b[39m\u001b[38;5;124mbone_r\u001b[39m\u001b[38;5;124m\"\u001b[39m,\n\u001b[1;32m      7\u001b[0m                     color\u001b[38;5;241m=\u001b[39m\u001b[38;5;124m\"\u001b[39m\u001b[38;5;124mdarkblue\u001b[39m\u001b[38;5;124m\"\u001b[39m,\n\u001b[1;32m      8\u001b[0m                     fill_contours\u001b[38;5;241m=\u001b[39m\u001b[38;5;28;01mTrue\u001b[39;00m, \n\u001b[1;32m      9\u001b[0m                     plot_datapoints\u001b[38;5;241m=\u001b[39m\u001b[38;5;28;01mFalse\u001b[39;00m)\n\u001b[1;32m     11\u001b[0m \u001b[38;5;66;03m# Extract the axes\u001b[39;00m\n\u001b[1;32m     12\u001b[0m axes \u001b[38;5;241m=\u001b[39m np\u001b[38;5;241m.\u001b[39marray(fig\u001b[38;5;241m.\u001b[39maxes)\u001b[38;5;241m.\u001b[39mreshape((n_dim, n_dim))\n",
      "\u001b[0;31mNameError\u001b[0m: name 'samples_flatten' is not defined"
     ]
    }
   ],
   "source": [
    "labels_list = [r\"$v_{1}$\", r\"$\\alpha$\", r\"$\\beta$\", r\"$w$\", r\"$\\gamma$\"]\n",
    "MAP = []\n",
    "fig = corner.corner(samples_flatten, figsize=(4, 3), \n",
    "                    fontsize=30, smooth=1, \n",
    "                    no_fill_contours=True, plot_contours=True, \n",
    "                    plot_density =\"bone_r\",\n",
    "                    color=\"darkblue\",\n",
    "                    fill_contours=True, \n",
    "                    plot_datapoints=False)\n",
    "\n",
    "# Extract the axes\n",
    "axes = np.array(fig.axes).reshape((n_dim, n_dim))\n",
    "\n",
    "for ii in range(n_dim):\n",
    "    ax = axes[ii, ii]\n",
    "    ax.clear()\n",
    "    mu, sigma = scipy.stats.norm.fit(np.ndarray.flatten(samples[:,:, ii]))\n",
    "    n , bins, _ = ax.hist(np.ndarray.flatten(samples[:,:, ii]), \n",
    "                          25, density=1, \n",
    "                          color=\"darkblue\", \n",
    "                          linewidth=3, \n",
    "                         alpha=0.4)\n",
    "    best_fit_line = scipy.stats.norm.pdf(bins, mu, sigma)\n",
    "    ax.set_ylim(np.min(best_fit_line), np.max(best_fit_line)*2)\n",
    "    ax.set_xlim(np.min(bins), np.max(bins))\n",
    "    _ = ax.plot(bins, best_fit_line, c=\"black\", linewidth=2)\n",
    "    ax.set_xticks([])\n",
    "    ax.set_yticks([])\n",
    "    MAP.append(bins[np.where(n == n.max())])\n",
    "    ax.axvline(bins[np.where(n == n.max())], label=\"$MAP$\", color=\"lightblue\", ls=\"--\", linewidth=3)\n",
    "    ax.set_title(\"MAP = \" + str(round(bins[np.where(n == n.max())][0], 2))\n",
    "                 +\"\\n $\\sigma = $\" + \"{:.2e}\".format(np.std(samples[:,:, ii])), fontsize=18)\n",
    "\n",
    "# Loop over the histograms\n",
    "for yi in range(n_dim):\n",
    "    for xi in range(n_dim):\n",
    "        if xi < yi:\n",
    "            ax = axes[yi, xi]\n",
    "            ax.axvline(MAP[xi], color=\"lightblue\", ls=\"--\", linewidth=3)\n",
    "            ax.axhline(MAP[yi], color=\"lightblue\", ls=\"--\", linewidth=3)\n",
    "            if yi==4:\n",
    "                ax.set_xlabel(labels_list[xi], fontsize=23)\n",
    "            if xi==0:\n",
    "                ax.set_ylabel(labels_list[yi], fontsize=23)\n",
    "            ax.set_xticks([])\n",
    "            ax.set_yticks([])\n",
    "            \n",
    "axes[-1, -1].set_xticks([])\n",
    "axes[-1, -1].set_xlabel(labels_list[-1], fontsize=23)\n",
    "fig.subplots_adjust(wspace=0, hspace=0)\n",
    "plt.savefig(\"figs/MCMC/mcmc_corner_plot_five_uncertain_parameters_three_CRs.png\", dpi=500, bbox_inches='tight')"
   ]
  },
  {
   "cell_type": "markdown",
   "id": "b381bb1a",
   "metadata": {},
   "source": [
    "## Diagnostics for MCMC"
   ]
  },
  {
   "cell_type": "markdown",
   "id": "7ce45717",
   "metadata": {},
   "source": [
    "**1) Mixing of the Chain (Heuristic):**\n",
    "Good mixing occurs when more of the domain is explored. Bad mixing occurs when the step size is too large and most proposals are rejected, resulting in less space being explored. "
   ]
  },
  {
   "cell_type": "code",
   "execution_count": 18,
   "id": "eba2ec0b",
   "metadata": {},
   "outputs": [
    {
     "ename": "NameError",
     "evalue": "name 'n_dim' is not defined",
     "output_type": "error",
     "traceback": [
      "\u001b[0;31m---------------------------------------------------------------------------\u001b[0m",
      "\u001b[0;31mNameError\u001b[0m                                 Traceback (most recent call last)",
      "Input \u001b[0;32mIn [18]\u001b[0m, in \u001b[0;36m<cell line: 1>\u001b[0;34m()\u001b[0m\n\u001b[0;32m----> 1\u001b[0m fig, ax \u001b[38;5;241m=\u001b[39m plt\u001b[38;5;241m.\u001b[39msubplots(nrows\u001b[38;5;241m=\u001b[39m\u001b[43mn_dim\u001b[49m, sharex\u001b[38;5;241m=\u001b[39m\u001b[38;5;28;01mTrue\u001b[39;00m, figsize\u001b[38;5;241m=\u001b[39m(\u001b[38;5;241m7\u001b[39m, \u001b[38;5;241m8\u001b[39m))\n\u001b[1;32m      3\u001b[0m \u001b[38;5;28;01mfor\u001b[39;00m ii \u001b[38;5;129;01min\u001b[39;00m \u001b[38;5;28mrange\u001b[39m(n_dim):\n\u001b[1;32m      4\u001b[0m     ax[ii]\u001b[38;5;241m.\u001b[39mplot(samples[:,:, ii], \u001b[38;5;124m'\u001b[39m\u001b[38;5;124m-\u001b[39m\u001b[38;5;124m'\u001b[39m, alpha\u001b[38;5;241m=\u001b[39m\u001b[38;5;241m0.3\u001b[39m)\n",
      "\u001b[0;31mNameError\u001b[0m: name 'n_dim' is not defined"
     ]
    }
   ],
   "source": [
    "fig, ax = plt.subplots(nrows=n_dim, sharex=True, figsize=(7, 8))\n",
    "\n",
    "for ii in range(n_dim):\n",
    "    ax[ii].plot(samples[:,:, ii], '-', alpha=0.3)\n",
    "    ax[ii].set_ylabel(labels_list[ii], fontsize=17)\n",
    "    \n",
    "ax[-1].set_xlabel(\"Number of Samples\")\n",
    "# #ax[0].set_title(\"Walkers in Parameter Space\")\n",
    "# ax[0].set_yticks([650, 710])\n",
    "# ax[1].set_yticks([1.813*0.1, 1.817*0.1])\n",
    "# ax[2].set_yticks([1.01, 1.06])\n",
    "# ax[3].set_yticks([0.01445, 0.01441])\n",
    "# ax[4].set_yticks([0.24, 0.25])\n",
    "\n",
    "ax[0].set_xlim(0, n_iter)\n",
    "\n",
    "fig.subplots_adjust(wspace=0, hspace=0)\n",
    "#ax[-1].set_xticks(np.arange(0, n_iter))\n",
    "#plt.tight_layout()\n",
    "plt.savefig(\"figs/MCMC/MCMC_chain_five_parameters_three_CRs.png\", dpi=500, bbox_inches='tight')"
   ]
  },
  {
   "cell_type": "markdown",
   "id": "63b36c37",
   "metadata": {},
   "source": [
    "# **2) Autocorrelation:** Autocorrelation draws from the fundamental property of a Markov chain: *every Markov chain is memoryless*. We can compute the autocorrelation of states which are $\\ell$ iterations apart as\n",
    "$$\n",
    "R(\\ell) \\equiv \\frac{\\sum_{i=1}^{n-\\ell} (X_{i} -\\bar{X})(X_{i+\\ell} - \\bar{X})}{\\sum_{i=1}^{n} (X_{i} - \\bar{X})^2}\n",
    "$$\n",
    "where $\\bar{X}$ is the mean."
   ]
  },
  {
   "cell_type": "code",
   "execution_count": 19,
   "id": "050b8eda",
   "metadata": {},
   "outputs": [
    {
     "ename": "NameError",
     "evalue": "name 'n_dim' is not defined",
     "output_type": "error",
     "traceback": [
      "\u001b[0;31m---------------------------------------------------------------------------\u001b[0m",
      "\u001b[0;31mNameError\u001b[0m                                 Traceback (most recent call last)",
      "Input \u001b[0;32mIn [19]\u001b[0m, in \u001b[0;36m<cell line: 1>\u001b[0;34m()\u001b[0m\n\u001b[0;32m----> 1\u001b[0m fig, ax \u001b[38;5;241m=\u001b[39m plt\u001b[38;5;241m.\u001b[39msubplots(ncols\u001b[38;5;241m=\u001b[39m\u001b[43mn_dim\u001b[49m, sharey\u001b[38;5;241m=\u001b[39m\u001b[38;5;28;01mTrue\u001b[39;00m, figsize\u001b[38;5;241m=\u001b[39m(\u001b[38;5;241m15\u001b[39m, \u001b[38;5;241m3\u001b[39m))\n\u001b[1;32m      2\u001b[0m \u001b[38;5;28;01mfor\u001b[39;00m jj \u001b[38;5;129;01min\u001b[39;00m \u001b[38;5;28mrange\u001b[39m(n_dim):\n\u001b[1;32m      3\u001b[0m     \u001b[38;5;28;01mfor\u001b[39;00m ii \u001b[38;5;129;01min\u001b[39;00m np\u001b[38;5;241m.\u001b[39marange(\u001b[38;5;241m0\u001b[39m, n_walkers):\n",
      "\u001b[0;31mNameError\u001b[0m: name 'n_dim' is not defined"
     ]
    }
   ],
   "source": [
    "fig, ax = plt.subplots(ncols=n_dim, sharey=True, figsize=(15, 3))\n",
    "for jj in range(n_dim):\n",
    "    for ii in np.arange(0, n_walkers):\n",
    "        ax[jj].plot(emcee.autocorr.function_1d(samples[:, ii, jj].T))\n",
    "        ax[jj].set_xlabel(\"$\\ell$\")\n",
    "        ax[jj].hlines(0, xmin=0, xmax=len(samples[:, 0, 0]), color=\"k\", ls=\"--\")\n",
    "    ax[jj].set_title(str(labels_list[jj]))\n",
    "ax[0].set_ylabel(\"$R(\\ell)$\")\n",
    "\n",
    "plt.tight_layout()"
   ]
  },
  {
   "cell_type": "markdown",
   "id": "9eaed196",
   "metadata": {},
   "source": [
    "**3) Integrated Autocorrelation (IAC) and Effective Sample Size (ESS):** In standard MC, the variance of the estimator is \n",
    "$$\n",
    "\\mathbb{V}\\text{ar} \\left( \\frac{1}{N} \\sum_{i=1}^{N} f(X^{(i)})\\right) = \\frac{\\mathbb{V}\\text{ar}(f(X))}{N}, \\qquad X^{(i)} \\sim i.i.d.\n",
    "$$\n",
    "In MCMC, samples are correlated, so we get additional covariance terms. If we assume that all $X_{i}$ and $X_{j}$ are samples from the target distribution, then we can approximate the variance of the MCMC estimator as \n",
    "$$\n",
    "\\mathbb{V}\\text{ar}\\left(\\bar{f}(X)^{\\text{MCMC}}\\right) = \\mathbb{V}\\text{ar} \\left( \\frac{1}{N} \\sum_{i=1}^{N} f(X^{(i)})\\right) = \\frac{\\mathbb{V}\\text{ar}\\left(f(X) \\right)}{N} \\cdot \\theta\n",
    "$$\n",
    "where the integrated autocorrelation (IAC) $\\theta$ is defined as \n",
    "$$\n",
    "\\theta = \\sum_{\\tau=-\\infty}^{\\infty} \\rho_{f}(\\tau)\n",
    "$$\n",
    "where $\\rho_{f}(\\tau)$ is the normalized autocorrelation function of the stochastic process that generated the chain for $f$. You can estimate $\\rho_{f}(\\tau)$ using a finite chain $\\{ f_{n}\\}_{n=1}^{N}$ as \n",
    "$$\n",
    "\\hat{\\rho}_{f}(\\tau) = \\hat{c}_{f}(\\tau)/\\hat{c}_{f}(0)\n",
    "$$\n",
    "where \n",
    "$$\n",
    "\\hat{c}_{f}(\\tau) = \\frac{1}{N-\\tau} \\sum_{n=1}^{N-\\tau} (f_{n} - \\mu_{f}) (f_{n+\\tau} - \\mu_{f})\n",
    "$$\n",
    "and \n",
    "$$\n",
    "\\mu_{f} = \\frac{1}{N} \\sum_{n=1}^{N} f_{n}.\n",
    "$$\n",
    "We stimate $\\theta$ using the estimator for $\\rho_{f}(\\tau)$ as \n",
    "$$\n",
    "\\theta(M) = 1 + 2 \\sum_{\\tau=1}^{M} \\hat{\\rho}_{f}(\\tau)\n",
    "$$\n",
    "The effective sample size of MCMC is then $\\frac{N}{\\theta}$ and we want $\\frac{N}{\\theta} \\ll 1$. Essentially, $\\theta$ is the number of steps that are needed fbefore the chain \"forgets\" where it started. Once we estimate $\\theta$ then we can estimate the number of samples that we need to generate to reduce the relative error on the target inegral. Typically, parallel chains longer than $50\\theta$ are often sufficient. \n",
    "\n",
    "The integrated autocorrelation time is an estimate of the number of steps needed in the chain in order to draw independent samples from the target density. A more efficient chain has a shorter autocorrelation time."
   ]
  },
  {
   "cell_type": "code",
   "execution_count": 20,
   "id": "3509b7f9",
   "metadata": {},
   "outputs": [
    {
     "ename": "AttributeError",
     "evalue": "You must run the sampler with 'store == True' before accessing the results",
     "output_type": "error",
     "traceback": [
      "\u001b[0;31m---------------------------------------------------------------------------\u001b[0m",
      "\u001b[0;31mAttributeError\u001b[0m                            Traceback (most recent call last)",
      "Input \u001b[0;32mIn [20]\u001b[0m, in \u001b[0;36m<cell line: 1>\u001b[0;34m()\u001b[0m\n\u001b[0;32m----> 1\u001b[0m tau \u001b[38;5;241m=\u001b[39m \u001b[43mreader\u001b[49m\u001b[38;5;241;43m.\u001b[39;49m\u001b[43mget_autocorr_time\u001b[49m\u001b[43m(\u001b[49m\u001b[43mdiscard\u001b[49m\u001b[38;5;241;43m=\u001b[39;49m\u001b[43mnburnin\u001b[49m\u001b[43m)\u001b[49m\n\u001b[1;32m      2\u001b[0m \u001b[38;5;28mprint\u001b[39m(\u001b[38;5;124m\"\u001b[39m\u001b[38;5;124mMore than N=\u001b[39m\u001b[38;5;124m\"\u001b[39m \u001b[38;5;241m+\u001b[39m \u001b[38;5;28mstr\u001b[39m(np\u001b[38;5;241m.\u001b[39mmax(tau\u001b[38;5;241m*\u001b[39m\u001b[38;5;241m50\u001b[39m)) \u001b[38;5;241m+\u001b[39m \u001b[38;5;124m\"\u001b[39m\u001b[38;5;124m samples in each chain is sufficient.\u001b[39m\u001b[38;5;124m\"\u001b[39m)\n",
      "File \u001b[0;32m/opt/anaconda3/envs/hux-rom/lib/python3.9/site-packages/emcee/backends/backend.py:149\u001b[0m, in \u001b[0;36mBackend.get_autocorr_time\u001b[0;34m(self, discard, thin, **kwargs)\u001b[0m\n\u001b[1;32m    130\u001b[0m \u001b[38;5;28;01mdef\u001b[39;00m \u001b[38;5;21mget_autocorr_time\u001b[39m(\u001b[38;5;28mself\u001b[39m, discard\u001b[38;5;241m=\u001b[39m\u001b[38;5;241m0\u001b[39m, thin\u001b[38;5;241m=\u001b[39m\u001b[38;5;241m1\u001b[39m, \u001b[38;5;241m*\u001b[39m\u001b[38;5;241m*\u001b[39mkwargs):\n\u001b[1;32m    131\u001b[0m     \u001b[38;5;124;03m\"\"\"Compute an estimate of the autocorrelation time for each parameter\u001b[39;00m\n\u001b[1;32m    132\u001b[0m \n\u001b[1;32m    133\u001b[0m \u001b[38;5;124;03m    Args:\u001b[39;00m\n\u001b[0;32m   (...)\u001b[0m\n\u001b[1;32m    147\u001b[0m \n\u001b[1;32m    148\u001b[0m \u001b[38;5;124;03m    \"\"\"\u001b[39;00m\n\u001b[0;32m--> 149\u001b[0m     x \u001b[38;5;241m=\u001b[39m \u001b[38;5;28;43mself\u001b[39;49m\u001b[38;5;241;43m.\u001b[39;49m\u001b[43mget_chain\u001b[49m\u001b[43m(\u001b[49m\u001b[43mdiscard\u001b[49m\u001b[38;5;241;43m=\u001b[39;49m\u001b[43mdiscard\u001b[49m\u001b[43m,\u001b[49m\u001b[43m \u001b[49m\u001b[43mthin\u001b[49m\u001b[38;5;241;43m=\u001b[39;49m\u001b[43mthin\u001b[49m\u001b[43m)\u001b[49m\n\u001b[1;32m    150\u001b[0m     \u001b[38;5;28;01mreturn\u001b[39;00m thin \u001b[38;5;241m*\u001b[39m autocorr\u001b[38;5;241m.\u001b[39mintegrated_time(x, \u001b[38;5;241m*\u001b[39m\u001b[38;5;241m*\u001b[39mkwargs)\n",
      "File \u001b[0;32m/opt/anaconda3/envs/hux-rom/lib/python3.9/site-packages/emcee/backends/backend.py:75\u001b[0m, in \u001b[0;36mBackend.get_chain\u001b[0;34m(self, **kwargs)\u001b[0m\n\u001b[1;32m     60\u001b[0m \u001b[38;5;28;01mdef\u001b[39;00m \u001b[38;5;21mget_chain\u001b[39m(\u001b[38;5;28mself\u001b[39m, \u001b[38;5;241m*\u001b[39m\u001b[38;5;241m*\u001b[39mkwargs):\n\u001b[1;32m     61\u001b[0m     \u001b[38;5;124;03m\"\"\"Get the stored chain of MCMC samples\u001b[39;00m\n\u001b[1;32m     62\u001b[0m \n\u001b[1;32m     63\u001b[0m \u001b[38;5;124;03m    Args:\u001b[39;00m\n\u001b[0;32m   (...)\u001b[0m\n\u001b[1;32m     73\u001b[0m \n\u001b[1;32m     74\u001b[0m \u001b[38;5;124;03m    \"\"\"\u001b[39;00m\n\u001b[0;32m---> 75\u001b[0m     \u001b[38;5;28;01mreturn\u001b[39;00m \u001b[38;5;28;43mself\u001b[39;49m\u001b[38;5;241;43m.\u001b[39;49m\u001b[43mget_value\u001b[49m\u001b[43m(\u001b[49m\u001b[38;5;124;43m\"\u001b[39;49m\u001b[38;5;124;43mchain\u001b[39;49m\u001b[38;5;124;43m\"\u001b[39;49m\u001b[43m,\u001b[49m\u001b[43m \u001b[49m\u001b[38;5;241;43m*\u001b[39;49m\u001b[38;5;241;43m*\u001b[39;49m\u001b[43mkwargs\u001b[49m\u001b[43m)\u001b[49m\n",
      "File \u001b[0;32m/opt/anaconda3/envs/hux-rom/lib/python3.9/site-packages/emcee/backends/hdf.py:152\u001b[0m, in \u001b[0;36mHDFBackend.get_value\u001b[0;34m(self, name, flat, thin, discard)\u001b[0m\n\u001b[1;32m    150\u001b[0m \u001b[38;5;28;01mdef\u001b[39;00m \u001b[38;5;21mget_value\u001b[39m(\u001b[38;5;28mself\u001b[39m, name, flat\u001b[38;5;241m=\u001b[39m\u001b[38;5;28;01mFalse\u001b[39;00m, thin\u001b[38;5;241m=\u001b[39m\u001b[38;5;241m1\u001b[39m, discard\u001b[38;5;241m=\u001b[39m\u001b[38;5;241m0\u001b[39m):\n\u001b[1;32m    151\u001b[0m     \u001b[38;5;28;01mif\u001b[39;00m \u001b[38;5;129;01mnot\u001b[39;00m \u001b[38;5;28mself\u001b[39m\u001b[38;5;241m.\u001b[39minitialized:\n\u001b[0;32m--> 152\u001b[0m         \u001b[38;5;28;01mraise\u001b[39;00m \u001b[38;5;167;01mAttributeError\u001b[39;00m(\n\u001b[1;32m    153\u001b[0m             \u001b[38;5;124m\"\u001b[39m\u001b[38;5;124mYou must run the sampler with \u001b[39m\u001b[38;5;124m\"\u001b[39m\n\u001b[1;32m    154\u001b[0m             \u001b[38;5;124m\"\u001b[39m\u001b[38;5;124m'\u001b[39m\u001b[38;5;124mstore == True\u001b[39m\u001b[38;5;124m'\u001b[39m\u001b[38;5;124m before accessing the \u001b[39m\u001b[38;5;124m\"\u001b[39m\n\u001b[1;32m    155\u001b[0m             \u001b[38;5;124m\"\u001b[39m\u001b[38;5;124mresults\u001b[39m\u001b[38;5;124m\"\u001b[39m\n\u001b[1;32m    156\u001b[0m         )\n\u001b[1;32m    157\u001b[0m     \u001b[38;5;28;01mwith\u001b[39;00m \u001b[38;5;28mself\u001b[39m\u001b[38;5;241m.\u001b[39mopen() \u001b[38;5;28;01mas\u001b[39;00m f:\n\u001b[1;32m    158\u001b[0m         g \u001b[38;5;241m=\u001b[39m f[\u001b[38;5;28mself\u001b[39m\u001b[38;5;241m.\u001b[39mname]\n",
      "\u001b[0;31mAttributeError\u001b[0m: You must run the sampler with 'store == True' before accessing the results"
     ]
    }
   ],
   "source": [
    "tau = reader.get_autocorr_time(discard=nburnin)\n",
    "print(\"More than N=\" + str(np.max(tau*50)) + \" samples in each chain is sufficient.\")"
   ]
  },
  {
   "cell_type": "code",
   "execution_count": null,
   "id": "550e70e4",
   "metadata": {},
   "outputs": [],
   "source": []
  },
  {
   "cell_type": "code",
   "execution_count": null,
   "id": "36edfd23",
   "metadata": {},
   "outputs": [],
   "source": []
  }
 ],
 "metadata": {
  "kernelspec": {
   "display_name": "Python 3 (ipykernel)",
   "language": "python",
   "name": "python3"
  },
  "language_info": {
   "codemirror_mode": {
    "name": "ipython",
    "version": 3
   },
   "file_extension": ".py",
   "mimetype": "text/x-python",
   "name": "python",
   "nbconvert_exporter": "python",
   "pygments_lexer": "ipython3",
   "version": "3.9.13"
  }
 },
 "nbformat": 4,
 "nbformat_minor": 5
}
