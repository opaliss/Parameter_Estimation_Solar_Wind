{
 "cells": [
  {
   "cell_type": "code",
   "execution_count": 1,
   "id": "e17ffa4f",
   "metadata": {},
   "outputs": [],
   "source": [
    "import numpy as np \n",
    "import matplotlib.pyplot as plt\n",
    "import os\n",
    "from model_chain import run_chain_of_models, get_ace_date\n",
    "import datetime as dt\n",
    "import astropy.units as u\n",
    "from sunpy.coordinates.sun import carrington_rotation_time"
   ]
  },
  {
   "cell_type": "code",
   "execution_count": 2,
   "id": "50dde711",
   "metadata": {},
   "outputs": [],
   "source": [
    "import matplotlib\n",
    "import matplotlib.dates as mdates\n",
    "font = {'family' : 'serif',\n",
    "        'size'   : 15}\n",
    "\n",
    "matplotlib.rc('font', **font)\n",
    "matplotlib.rc('xtick', labelsize=14) \n",
    "matplotlib.rc('ytick', labelsize=14) "
   ]
  },
  {
   "cell_type": "code",
   "execution_count": 3,
   "id": "7a0a4c55",
   "metadata": {},
   "outputs": [],
   "source": [
    "# set up carrington rotation\n",
    "\n",
    "start_time_CR2048 = carrington_rotation_time(int(2048)).to_datetime()\n",
    "end_time_CR2058 = carrington_rotation_time(int(2058)+1).to_datetime()"
   ]
  },
  {
   "cell_type": "code",
   "execution_count": 4,
   "id": "af94b0e3",
   "metadata": {},
   "outputs": [],
   "source": [
    "# get ace data\n",
    "ACE_longitude, ACE_latitude, ACE_r, ACE_vr, ACE_obstime = get_ace_date(start_time=start_time_CR2048, end_time=end_time_CR2058)\n",
    "ACE_vr_is_nan = np.isnan(ACE_vr)"
   ]
  },
  {
   "cell_type": "code",
   "execution_count": null,
   "id": "1ce674fb",
   "metadata": {},
   "outputs": [],
   "source": [
    "fig, ax = plt.subplots(figsize=(10, 3))\n",
    "_ = ax.plot(ACE_obstime.value, ACE_vr, c=\"k\", ls=\"--\")\n",
    "_ = ax.set_ylabel(\"Solar Wind \\n  Velocity [km/s]\")\n",
    "_ = ax.set_title(\"ACE/SWEPAM Observations\")"
   ]
  },
  {
   "cell_type": "code",
   "execution_count": null,
   "id": "0a61b1c6",
   "metadata": {},
   "outputs": [],
   "source": [
    "for ii in range(2048, 2058):\n",
    "    start_time = carrington_rotation_time(int(ii)).to_datetime()\n",
    "    _ = ax.vlines(start_time, 300, 900)\n",
    "    _ = ax.text(startime, 900, \"CR \" + str(ii), rotation=90, verticalalignment='center', fontsize=15)"
   ]
  },
  {
   "cell_type": "code",
   "execution_count": null,
   "id": "4ded63c9",
   "metadata": {},
   "outputs": [],
   "source": []
  }
 ],
 "metadata": {
  "kernelspec": {
   "display_name": "Python 3 (ipykernel)",
   "language": "python",
   "name": "python3"
  },
  "language_info": {
   "codemirror_mode": {
    "name": "ipython",
    "version": 3
   },
   "file_extension": ".py",
   "mimetype": "text/x-python",
   "name": "python",
   "nbconvert_exporter": "python",
   "pygments_lexer": "ipython3",
   "version": "3.9.13"
  }
 },
 "nbformat": 4,
 "nbformat_minor": 5
}
