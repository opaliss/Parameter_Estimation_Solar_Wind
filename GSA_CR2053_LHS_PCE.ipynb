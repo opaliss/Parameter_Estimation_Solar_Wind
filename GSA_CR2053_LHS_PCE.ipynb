{
 "cells": [
  {
   "cell_type": "markdown",
   "id": "089c1c44",
   "metadata": {},
   "source": [
    "# Global Sensitivity Analysis of *PFSS $\\to$ WSA $\\to$ HUX* for CR2053"
   ]
  },
  {
   "cell_type": "code",
   "execution_count": 1,
   "id": "78e684f8",
   "metadata": {},
   "outputs": [],
   "source": [
    "import numpy as np \n",
    "import matplotlib.pyplot as plt\n",
    "import os\n",
    "from scipy import stats\n",
    "from model_chain import run_chain_of_models, get_ace_date\n",
    "from SA_tools.sobol import estimate_sobol\n",
    "import datetime as dt\n",
    "from sklearn import linear_model as lm\n",
    "import chaospy\n",
    "from sunpy.coordinates.sun import carrington_rotation_time\n",
    "import matplotlib\n",
    "import scipy\n",
    "font = {'family' : 'serif',\n",
    "        'size'   : 12}\n",
    "\n",
    "matplotlib.rc('font', **font)\n",
    "matplotlib.rc('xtick', labelsize=12) \n",
    "matplotlib.rc('ytick', labelsize=12) "
   ]
  },
  {
   "cell_type": "markdown",
   "id": "57d1c50c",
   "metadata": {},
   "source": [
    "# ACE data"
   ]
  },
  {
   "cell_type": "code",
   "execution_count": 2,
   "id": "522daf0d",
   "metadata": {},
   "outputs": [],
   "source": [
    "# set up carrington rotation\n",
    "CR = \"2053\"\n",
    "start_time = carrington_rotation_time(int(CR)).to_datetime()\n",
    "end_time = carrington_rotation_time(int(CR)+1).to_datetime()\n",
    "\n",
    "# get ace data\n",
    "ACE_longitude, ACE_latitude, ACE_r, ACE_vr, ACE_obstime = get_ace_date(start_time=start_time, end_time=end_time)"
   ]
  },
  {
   "cell_type": "markdown",
   "id": "d29ceefd",
   "metadata": {},
   "source": [
    "# Monte Carlo Simulation Results\n"
   ]
  },
  {
   "cell_type": "code",
   "execution_count": 3,
   "id": "6d56dd9b",
   "metadata": {},
   "outputs": [],
   "source": [
    "N_curr = 10000\n",
    "# directory with results\n",
    "dir_name = os.getcwd() + \"/SA_results/CR\" + str(CR) + \"/LHS\""
   ]
  },
  {
   "cell_type": "code",
   "execution_count": 4,
   "id": "b45bd891",
   "metadata": {},
   "outputs": [],
   "source": [
    "# estimate sobol indices (MAE)\n",
    "# A folder\n",
    "YA_MAE = np.load(dir_name + \"/simulation_MAE/YA.npy\")[:N_curr]"
   ]
  },
  {
   "cell_type": "code",
   "execution_count": 5,
   "id": "12ee2f3f",
   "metadata": {},
   "outputs": [],
   "source": [
    "# estimate sobol indices (RMSE)\n",
    "YA_RMSE = np.load(dir_name + \"/simulation_RMSE/YA.npy\")[:N_curr]"
   ]
  },
  {
   "cell_type": "code",
   "execution_count": 6,
   "id": "45dc1561",
   "metadata": {},
   "outputs": [],
   "source": [
    "# estimate sobol indices (PCC)\n",
    "YA_PCC = np.load(dir_name + \"/simulation_PCC/YA.npy\")[:N_curr]"
   ]
  },
  {
   "cell_type": "markdown",
   "id": "66360e0f",
   "metadata": {},
   "source": [
    "# Latin Hypercube Samples"
   ]
  },
  {
   "cell_type": "code",
   "execution_count": 7,
   "id": "3fb72404",
   "metadata": {},
   "outputs": [
    {
     "data": {
      "text/plain": [
       "(10000, 11)"
      ]
     },
     "execution_count": 7,
     "metadata": {},
     "output_type": "execute_result"
    }
   ],
   "source": [
    "# get samples\n",
    "A = np.load(\"SA_results/CR\" + str(CR) + \"/LHS/samples/A_sample_scaled_20000.npy\")[:N_curr, :]\n",
    "np.shape(A)"
   ]
  },
  {
   "cell_type": "markdown",
   "id": "6223e2cc",
   "metadata": {},
   "source": [
    "# Construct PCE"
   ]
  },
  {
   "cell_type": "markdown",
   "id": "2b48fe18",
   "metadata": {},
   "source": [
    "### Define the uncertain input parameters."
   ]
  },
  {
   "cell_type": "code",
   "execution_count": 8,
   "id": "4fe89af6",
   "metadata": {},
   "outputs": [],
   "source": [
    "rss = chaospy.Uniform(1.5, 4)\n",
    "v0 = chaospy.Uniform(200, 400)\n",
    "v1 = chaospy.Uniform(550, 950)\n",
    "alpha = chaospy.Uniform(0.05, 0.5)\n",
    "beta = chaospy.Uniform(1, 1.75)\n",
    "w = chaospy.Uniform(0.01, 0.4)\n",
    "gamma = chaospy.Uniform(0.06, 0.9)\n",
    "delta = chaospy.Uniform(1, 5)\n",
    "psi = chaospy.Uniform(3, 4)\n",
    "alpha_acc = chaospy.Uniform(0, 0.5)\n",
    "rh = chaospy.Uniform(30, 60)\n",
    "\n",
    "joint = chaospy.J(rss, v0, v1, alpha, beta, w, gamma, delta, psi, alpha_acc, rh)"
   ]
  },
  {
   "cell_type": "markdown",
   "id": "a7150d5f",
   "metadata": {},
   "source": [
    "### Expansion and number of coefficients. \n",
    "The number of coefficients $b_{\\beta}$ is defined by \n",
    "$$\n",
    "M = \\binom{p+d}{p} = \\frac{(p+d)!}{p!d!}\n",
    "$$"
   ]
  },
  {
   "cell_type": "code",
   "execution_count": 9,
   "id": "42c2f3ef",
   "metadata": {},
   "outputs": [
    {
     "name": "stdout",
     "output_type": "stream",
     "text": [
      "p = 1=>  M = 12 => 3M = 36\n",
      "p = 2=>  M = 78 => 3M = 234\n",
      "p = 3=>  M = 364 => 3M = 1092\n",
      "p = 4=>  M = 1365 => 3M = 4095\n",
      "p = 5=>  M = 4368 => 3M = 13104\n",
      "p = 6=>  M = 12376 => 3M = 37128\n",
      "p = 7=>  M = 31824 => 3M = 95472\n",
      "p = 8=>  M = 75582 => 3M = 226746\n"
     ]
    }
   ],
   "source": [
    "d=11\n",
    "for p in range(1, 9):\n",
    "    M = int(scipy.special.binom(d+p, p))\n",
    "    print(\"p = \" + str(p) + \"=>  M = \" + str(M) + \" => 3M = \" + str(3*M))"
   ]
  },
  {
   "cell_type": "markdown",
   "id": "1f30d6d6",
   "metadata": {},
   "source": [
    "Thus, with 10,000 samples we can compute a PCE with up to order $p=5$. "
   ]
  },
  {
   "cell_type": "code",
   "execution_count": 11,
   "id": "1dbef84d",
   "metadata": {},
   "outputs": [
    {
     "data": {
      "text/plain": [
       "(78,)"
      ]
     },
     "execution_count": 11,
     "metadata": {},
     "output_type": "execute_result"
    }
   ],
   "source": [
    "expansion = chaospy.generate_expansion(order=2, dist=joint, normed=True, graded=False)\n",
    "expansion.shape"
   ]
  },
  {
   "cell_type": "markdown",
   "id": "4acb238f",
   "metadata": {},
   "source": [
    "### Compute the coefficients using a non-intrusive least-squares approach\n",
    "\n",
    "For now, lets only consider the mean absolute error between the model prediction and ACE data as the QoI. "
   ]
  },
  {
   "cell_type": "code",
   "execution_count": 12,
   "id": "1ffd5211",
   "metadata": {},
   "outputs": [],
   "source": [
    "N_training = 8000"
   ]
  },
  {
   "cell_type": "code",
   "execution_count": 13,
   "id": "e60ee9ee",
   "metadata": {},
   "outputs": [],
   "source": [
    "# type of linear solve ==> LASSO (L1 regularization)\n",
    "model = lm.LassoLars(alpha=0., fit_intercept=False)\n",
    "# fit the coefficients based on LASSO. \n",
    "pce, coeffs, matrix_pce = chaospy.fit_regression(polynomials=expansion, \n",
    "                                     abscissas=A[:N_training, :].T,\n",
    "                                     evals=YA_MAE[:N_training], \n",
    "                                     retall=2, \n",
    "                                     model=model)"
   ]
  },
  {
   "cell_type": "code",
   "execution_count": 14,
   "id": "fc1235d3",
   "metadata": {},
   "outputs": [
    {
     "data": {
      "text/plain": [
       "1.2346345412269089"
      ]
     },
     "execution_count": 14,
     "metadata": {},
     "output_type": "execute_result"
    }
   ],
   "source": [
    "np.linalg.cond(matrix_pce)"
   ]
  },
  {
   "cell_type": "markdown",
   "id": "05f16ffa",
   "metadata": {},
   "source": [
    "### Compute the PCE error on the testing regime"
   ]
  },
  {
   "cell_type": "code",
   "execution_count": 15,
   "id": "1474ac02",
   "metadata": {},
   "outputs": [],
   "source": [
    "pce_prediction = np.zeros(N_curr - N_training)\n",
    "for idx, ii in enumerate(np.arange(N_training, N_curr)):\n",
    "    pce_prediction[idx] = pce(A[ii, 0], \n",
    "                              A[ii, 1], \n",
    "                              A[ii, 2], \n",
    "                              A[ii, 3], \n",
    "                              A[ii, 4], \n",
    "                              A[ii, 5], \n",
    "                              A[ii, 6], \n",
    "                              A[ii, 7], \n",
    "                              A[ii, 8], \n",
    "                              A[ii, 9], \n",
    "                              A[ii, 10])"
   ]
  },
  {
   "cell_type": "code",
   "execution_count": 16,
   "id": "3169523e",
   "metadata": {},
   "outputs": [
    {
     "data": {
      "text/plain": [
       "4379.474716280888"
      ]
     },
     "execution_count": 16,
     "metadata": {},
     "output_type": "execute_result"
    }
   ],
   "source": [
    "np.linalg.norm(pce_prediction - YA_MAE[N_training:])"
   ]
  },
  {
   "cell_type": "markdown",
   "id": "d046c6b7",
   "metadata": {},
   "source": [
    "### Compute Sobol' indices analytically from constructed PCEs"
   ]
  },
  {
   "cell_type": "code",
   "execution_count": 17,
   "id": "664705f2",
   "metadata": {},
   "outputs": [],
   "source": [
    "def calc_sensitivity_sobol(d, pce, coefficients):\n",
    "    # skip the first index squared. -- correct verified. \n",
    "    variance = np.sum(np.array(coefficients[1:])**2)\n",
    "    # intialize main and total order indices. \n",
    "    main = np.zeros(d)\n",
    "    total = np.zeros(d)\n",
    "    \n",
    "    # interate over polynomials and their exponents. \n",
    "    for idx, pol in enumerate(pce.exponents):\n",
    "        add_total = [False,]*d\n",
    "        add_main = [False,]*d\n",
    "\n",
    "        for var in range(d):\n",
    "            if pol[var] > 0:\n",
    "                total[var] += coefficients[idx]**2\n",
    "                \n",
    "            if pol[var] > 0 and (pol[:var]== np.zeros(var)).all() and (pol[var+1:]==np.zeros(d-var-1)).all():\n",
    "                 main[var] += coefficients[idx]**2\n",
    "\n",
    "    main = main/variance\n",
    "    total = total/variance\n",
    "    return main, total"
   ]
  },
  {
   "cell_type": "code",
   "execution_count": 18,
   "id": "3f18e8fc",
   "metadata": {},
   "outputs": [],
   "source": [
    "first_order_indices, total_order_indices = calc_sensitivity_sobol(d=11, pce=pce, coefficients=pce.coefficients)"
   ]
  },
  {
   "cell_type": "code",
   "execution_count": 19,
   "id": "15aa5334",
   "metadata": {},
   "outputs": [
    {
     "data": {
      "image/png": "[encoded data removed]",
      "text/plain": [
       "<Figure size 800x300 with 2 Axes>"
      ]
     },
     "metadata": {},
     "output_type": "display_data"
    }
   ],
   "source": [
    "fig, ax = plt.subplots(nrows=2, sharex=True, sharey=True, figsize=(8, 3))\n",
    "\n",
    "_ = ax[0].bar(np.arange(11), first_order_indices, color=\"b\")\n",
    "_ = ax[1].bar(np.arange(11), total_order_indices, color=\"b\")\n",
    "\n",
    "\n",
    "_ = ax[0].set_title(\"MAE first-order indices\")\n",
    "_ = ax[1].set_title(\"MAE total-order indices\")\n",
    "_ = ax[0].set_xticks(np.arange(11))\n",
    "_ = ax[0].set_xticklabels([r\"$r_{SS}$\", r\"$v_{0}$\", r\"$v_{1}$\", r\"$\\alpha$\", r\"$\\beta$\", r\"$w$\", r\"$\\gamma$\", r\"$\\delta$\", r\"$\\psi$\", r\"$ \\alpha_{acc}$\", r\"$r_{h}$\"])\n",
    "\n",
    "_ = ax[0].set_ylabel(\"first-order \\n $S_{i}$\")\n",
    "_ = ax[1].set_ylabel(\"total-order \\n $T_{i}$\")\n",
    "plt.tight_layout()"
   ]
  },
  {
   "cell_type": "markdown",
   "id": "eeba4e5d",
   "metadata": {},
   "source": [
    "### Find optimal regularization coefficient and polynomial degree $p$"
   ]
  },
  {
   "cell_type": "code",
   "execution_count": null,
   "id": "48107ad2",
   "metadata": {},
   "outputs": [
    {
     "name": "stdout",
     "output_type": "stream",
     "text": [
      "0 0\n",
      "0 1\n",
      "0 2\n",
      "0 3\n",
      "1 0\n",
      "1 1\n",
      "1 2\n",
      "1 3\n",
      "2 0\n",
      "2 1\n",
      "2 2\n"
     ]
    }
   ],
   "source": [
    "# vector of possible lambdas\n",
    "lambda_vec = np.linspace(0, 1, 5)\n",
    "# vector of possible p-order from 2 to 5. \n",
    "p_order_vec = np.arange(2, 6)\n",
    "# save error in L2-norm for all possibilities. \n",
    "pce_prediction_vector = np.zeros((len(p_order_vec), len(lambda_vec), N_curr - N_training))\n",
    "\n",
    "# loop over all permutations. \n",
    "for kk, lam in enumerate(lambda_vec):\n",
    "    for tt, p in enumerate(p_order_vec):\n",
    "        # set up Legendre expansion\n",
    "        expansion = chaospy.generate_expansion(order=p, dist=joint, normed=True)\n",
    "        # type of linear solve ==> LASSO (L1 regularization)\n",
    "        model = lm.LassoLars(alpha=lam, fit_intercept=False)\n",
    "        # fit the coefficients based on LASSO. \n",
    "        pce, coeffs, matrix_pce = chaospy.fit_regression(polynomials=expansion, \n",
    "                                             abscissas=A[:N_training, :].T,\n",
    "                                             evals=YA_MAE[:N_training], \n",
    "                                             retall=2, \n",
    "                                             model=model)\n",
    "        # intialize the pce prediction at testing regime. \n",
    "        pce_prediction = np.zeros(N_curr - N_training)\n",
    "        for jj, ii in enumerate(np.arange(N_training, N_curr)):\n",
    "            pce_prediction[jj] = pce(A[ii, 0], \n",
    "                                  A[ii, 1], \n",
    "                                  A[ii, 2], \n",
    "                                  A[ii, 3], \n",
    "                                  A[ii, 4], \n",
    "                                  A[ii, 5], \n",
    "                                  A[ii, 6], \n",
    "                                  A[ii, 7], \n",
    "                                  A[ii, 8], \n",
    "                                  A[ii, 9], \n",
    "                                  A[ii, 10])\n",
    "        # compute error in testing regime in the (L2-norm).\n",
    "        # i.e.  ||x||_{2} = sqrt(sum_(k=1)^n|x_k|^2)\n",
    "        pce_prediction_vector[tt, kk, :] = pce_prediction \n",
    "        print(kk, tt)"
   ]
  },
  {
   "cell_type": "code",
   "execution_count": null,
   "id": "4d595fa8",
   "metadata": {},
   "outputs": [],
   "source": [
    "error_l2 = np.zeros((len(p_order_vec), len(lambda_vec)))\n",
    "error_inf = np.zeros((len(p_order_vec), len(lambda_vec)))\n",
    "\n",
    "for kk, lam in enumerate(lambda_vec):\n",
    "    for tt, p in enumerate(p_order_vec):\n",
    "        error_l2[tt, kk] = np.linalg.norm(pce_prediction_vector[tt, kk, :] - YA_MAE[N_training:])/np.linalg.norm(YA_MAE[N_training:])\n",
    "        error_inf[tt, kk] = np.linalg.norm(pce_prediction_vector[tt, kk, :] - YA_MAE[N_training:], ord=np.inf)/np.linalg.norm(YA_MAE[N_training:], ord=np.inf)"
   ]
  },
  {
   "cell_type": "code",
   "execution_count": null,
   "id": "83e42279",
   "metadata": {},
   "outputs": [],
   "source": [
    "fig, ax = plt.subplots(ncols=2, figsize=(8, 3))\n",
    "\n",
    "_ = ax[0].plot(lambda_vec, error_l2[0, :], c=\"b\", label=\"$p=2$\")\n",
    "_ = ax[0].scatter(lambda_vec, error_l2[0, :], c=\"b\", s=10)\n",
    "_ = ax[0].plot(lambda_vec, error_l2[1, :], c=\"r\", label=\"$p=3$\")\n",
    "_ = ax[0].scatter(lambda_vec, error_l2[1, :], c=\"r\", s=10)\n",
    "_ = ax[0].plot(lambda_vec, error_l2[2, :], c=\"g\", label=\"$p=4$\")\n",
    "_ = ax[0].scatter(lambda_vec, error_l2[2, :], c=\"g\", s=10)\n",
    "_ = ax[0].plot(lambda_vec, error_l2[3, :], c=\"purple\", label=\"$p=5$\")\n",
    "_ = ax[0].scatter(lambda_vec, error_l2[3, :], c=\"purple\", s=10)\n",
    "_ = ax[0].set_xlabel(\"regularization coefficient\")\n",
    "_ = ax[0].set_ylabel(\"$L_{2}$ relative error \")\n",
    "_ = ax[0].set_title(\"$L_{2}$\")\n",
    "_ = ax[0].legend()\n",
    "\n",
    "_ = ax[1].plot(lambda_vec, error_inf[0, :], c=\"b\", label=\"$p=2$\")\n",
    "_ = ax[1].scatter(lambda_vec, error_inf[0, :], c=\"b\", s=10)\n",
    "_ = ax[1].plot(lambda_vec, error_inf[1, :], c=\"r\", label=\"$p=3$\")\n",
    "_ = ax[1].scatter(lambda_vec, error_inf[1, :], c=\"r\", s=10)\n",
    "_ = ax[1].plot(lambda_vec, error_inf[2, :], c=\"g\", label=\"$p=4$\")\n",
    "_ = ax[1].scatter(lambda_vec, error_inf[2, :], c=\"g\", s=10)\n",
    "_ = ax[1].plot(lambda_vec, error_inf[3, :], c=\"purple\", label=\"$p=5$\")\n",
    "_ = ax[1].scatter(lambda_vec, error_inf[3, :], c=\"purple\", s=10)\n",
    "\n",
    "_ = ax[1].set_xlabel(\"regularization coefficient\")\n",
    "_ = ax[1].set_ylabel(\"$L_{\\infty}$ relative error \")\n",
    "_ = ax[1].set_title(\"$L_{\\infty}$\")\n",
    "_ = ax[1].legend()\n",
    "plt.tight_layout()"
   ]
  },
  {
   "cell_type": "code",
   "execution_count": null,
   "id": "71046b6e",
   "metadata": {},
   "outputs": [],
   "source": [
    "index = np.unravel_index(error_l2.argmin(), error_l2.shape)\n",
    "print(\"optimal L-2 lambda = \", lambda_vec[index[1]])\n",
    "print(\"optimal L-2 p = \", p_order_vec[index[0]])"
   ]
  },
  {
   "cell_type": "code",
   "execution_count": null,
   "id": "05c930d2",
   "metadata": {},
   "outputs": [],
   "source": [
    "index = np.unravel_index(error_inf.argmin(), error_inf.shape)\n",
    "print(\"optimal L-inf lambda = \", lambda_vec[index[1]])\n",
    "print(\"optimal L-inf p = \", p_order_vec[index[0]])"
   ]
  },
  {
   "cell_type": "code",
   "execution_count": null,
   "id": "ddf27b21",
   "metadata": {},
   "outputs": [],
   "source": []
  }
 ],
 "metadata": {
  "kernelspec": {
   "display_name": "Python 3 (ipykernel)",
   "language": "python",
   "name": "python3"
  },
  "language_info": {
   "codemirror_mode": {
    "name": "ipython",
    "version": 3
   },
   "file_extension": ".py",
   "mimetype": "text/x-python",
   "name": "python",
   "nbconvert_exporter": "python",
   "pygments_lexer": "ipython3",
   "version": "3.9.13"
  }
 },
 "nbformat": 4,
 "nbformat_minor": 5
}
