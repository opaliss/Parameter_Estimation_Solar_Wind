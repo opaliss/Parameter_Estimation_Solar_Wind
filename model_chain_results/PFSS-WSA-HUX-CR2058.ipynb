{
 "cells": [
  {
   "cell_type": "markdown",
   "id": "18013154",
   "metadata": {},
   "source": [
    "# CR 2058$\\rightarrow$ *2007-06-21 to 2007-07-18*\n",
    "\n",
    "Authors: Opal Issan\n",
    "\n",
    "Last modified: Jan 18th, 2022"
   ]
  },
  {
   "cell_type": "code",
   "execution_count": null,
   "id": "6ba8d698",
   "metadata": {},
   "outputs": [],
   "source": []
  },
  {
   "cell_type": "code",
   "execution_count": 2,
   "id": "9a02cf5c",
   "metadata": {},
   "outputs": [
    {
     "ename": "ModuleNotFoundError",
     "evalue": "No module named 'HUX'",
     "output_type": "error",
     "traceback": [
      "\u001b[0;31m---------------------------------------------------------------------------\u001b[0m",
      "\u001b[0;31mModuleNotFoundError\u001b[0m                       Traceback (most recent call last)",
      "Input \u001b[0;32mIn [2]\u001b[0m, in \u001b[0;36m<cell line: 13>\u001b[0;34m()\u001b[0m\n\u001b[1;32m     11\u001b[0m \u001b[38;5;28;01mfrom\u001b[39;00m \u001b[38;5;21;01mheliopy\u001b[39;00m\u001b[38;5;21;01m.\u001b[39;00m\u001b[38;5;21;01mdata\u001b[39;00m \u001b[38;5;28;01mimport\u001b[39;00m ace\n\u001b[1;32m     12\u001b[0m \u001b[38;5;28;01mfrom\u001b[39;00m \u001b[38;5;21;01mheliopy\u001b[39;00m \u001b[38;5;28;01mimport\u001b[39;00m spice\n\u001b[0;32m---> 13\u001b[0m \u001b[38;5;28;01mfrom\u001b[39;00m \u001b[38;5;21;01mHUX\u001b[39;00m\u001b[38;5;21;01m.\u001b[39;00m\u001b[38;5;21;01mhux_propagation\u001b[39;00m \u001b[38;5;28;01mimport\u001b[39;00m apply_hux_f_model\n\u001b[1;32m     14\u001b[0m \u001b[38;5;28;01mimport\u001b[39;00m \u001b[38;5;21;01mmatplotlib\u001b[39;00m\n\u001b[1;32m     15\u001b[0m \u001b[38;5;28;01mimport\u001b[39;00m \u001b[38;5;21;01mmatplotlib\u001b[39;00m\u001b[38;5;21;01m.\u001b[39;00m\u001b[38;5;21;01mpyplot\u001b[39;00m \u001b[38;5;28;01mas\u001b[39;00m \u001b[38;5;21;01mplt\u001b[39;00m\n",
      "\u001b[0;31mModuleNotFoundError\u001b[0m: No module named 'HUX'"
     ]
    }
   ],
   "source": [
    "import numpy as np\n",
    "import datetime as dt\n",
    "from scipy import ndimage\n",
    "import astropy.units as u\n",
    "import time\n",
    "from sunpy.coordinates import frames\n",
    "from sunpy.coordinates import HeliographicCarrington\n",
    "from astropy.coordinates import SkyCoord\n",
    "from sunpy.coordinates.sun import carrington_rotation_time\n",
    "from heliopy.data import ace\n",
    "from heliopy import spice\n",
    "from HUX.hux_propagation import apply_hux_f_model\n",
    "import matplotlib\n",
    "import matplotlib.pyplot as plt\n",
    "import astropy.constants as const\n",
    "import sunpy.map\n",
    "import os\n",
    "import scipy\n",
    "import pfsspy\n",
    "import astropy\n",
    "from pfsspy import coords, tracing, fieldline\n",
    "from model_chain import get_ace_date, pfss2flines, distance_to_coronal_hole_boundary\n",
    "import matplotlib.dates as mdates\n",
    "\n",
    "plt.rcParams['savefig.facecolor'] = 'white'\n",
    "font = {'family': 'serif',\n",
    "        'size': 12}\n",
    "\n",
    "matplotlib.rc('font', **font)\n",
    "matplotlib.rc('xtick', labelsize=12)\n",
    "matplotlib.rc('ytick', labelsize=12)"
   ]
  },
  {
   "cell_type": "markdown",
   "id": "d30ed403",
   "metadata": {},
   "source": [
    "# Set time period"
   ]
  },
  {
   "cell_type": "code",
   "execution_count": null,
   "id": "78cf77ed",
   "metadata": {},
   "outputs": [],
   "source": [
    "CR = \"2058\"\n",
    "start_time = carrington_rotation_time(int(CR)).to_datetime()\n",
    "end_time = carrington_rotation_time(int(CR)+1).to_datetime()\n",
    "print(start_time)\n",
    "print(end_time)"
   ]
  },
  {
   "cell_type": "markdown",
   "id": "e8611ed9",
   "metadata": {},
   "source": [
    "# ACE Trajectory and Observations"
   ]
  },
  {
   "cell_type": "code",
   "execution_count": null,
   "id": "809b615c",
   "metadata": {},
   "outputs": [],
   "source": [
    "ACE_longitude, ACE_latitude, ACE_r, ACE_vr, ACE_obstime = get_ace_date(start_time=start_time, end_time=end_time)"
   ]
  },
  {
   "cell_type": "code",
   "execution_count": null,
   "id": "9897dad7",
   "metadata": {},
   "outputs": [],
   "source": [
    "fig, ax = plt.subplots(figsize=(10, 3))\n",
    "ax.plot(ACE_obstime.value, ACE_vr, c=\"k\", ls=\"--\")\n",
    "ax.set_ylim(250, 900)\n",
    "ax.set_ylabel(\"Solar Wind Velocity [km/s]\")\n",
    "ax.set_title(\"ACE/SWEPAM Observations CR\" + str(CR))\n",
    "#plt.gca().xaxis.set_major_formatter(mdates.DateFormatter('%Y-%m-%d'))\n",
    "plt.gca().xaxis.set_major_locator(mdates.DayLocator(interval=100))\n",
    "ax.xaxis.set_major_formatter(mdates.DateFormatter('% Y-% m-% d'))\n",
    "\n",
    "fig.autofmt_xdate()"
   ]
  },
  {
   "cell_type": "markdown",
   "id": "2a4a128d",
   "metadata": {},
   "source": [
    "# GONG Magnetograms"
   ]
  },
  {
   "cell_type": "markdown",
   "id": "4e179c9f",
   "metadata": {},
   "source": [
    "## Read data from NSO website"
   ]
  },
  {
   "cell_type": "code",
   "execution_count": null,
   "id": "b74d03b4",
   "metadata": {},
   "outputs": [],
   "source": [
    "gong_map = sunpy.map.Map('GONG/CR' + str(CR) + '/mrmqs070704t1843c2058_000.fits.gz')\n",
    "gong_map.meta[\"bunit\"] = \"gauss\"\n",
    "gong_map.meta[\"DATE\"] = str(ACE_obstime[-1])\n",
    "gong_map.meta[\"DATE_OBS\"] = str(ACE_obstime[-1])\n",
    "gong_map"
   ]
  },
  {
   "cell_type": "markdown",
   "id": "a2b6692a",
   "metadata": {},
   "source": [
    "# PFSS"
   ]
  },
  {
   "cell_type": "markdown",
   "id": "c802ee0b",
   "metadata": {},
   "source": [
    "The PFSS model [(Wang et al. 1992)](https://ui.adsabs.harvard.edu/abs/1992ApJ...392..310W/abstract) solves for the magnetic field $\\mathbf{B} = [B_{r}(r, \\theta, \\phi), B_{\\theta}(r, \\theta, \\phi), B_{\\phi}(r, \\theta, \\phi)]^{\\top} \\in \\mathbb{R}^{3}$, where $\\theta \\in [0, \\pi]$ is Carrington latitude, $\\phi \\in [0, 2\\pi]$ is Carrington longitude, and $r \\in [1 R_{S}, r_{\\text{PFSS}} ] $ is the radial distance from the center of the Sun. PFSS is an elliptic boundary value problem, satisfying\n",
    "\\begin{equation}\\label{curl-b-zero}\n",
    "   \\nabla \\times \\mathbf{B} = 0\n",
    "\\end{equation}\n",
    "and \n",
    "\\begin{equation}\\label{div-b-zero}\n",
    "    \\nabla \\cdot \\mathbf{B} =0.\n",
    "\\end{equation}\n",
    "We can describe the magnetic field by its potential,\n",
    "\\begin{equation}\\label{potential-def}\n",
    "    \\mathbf{B} = \\nabla \\Psi.\n",
    "\\end{equation}\n",
    "Then, we obtain the laplace equation\n",
    "\\begin{equation}\n",
    "    \\nabla^2 \\Psi = 0, \n",
    "\\end{equation}\n",
    "subject to \n",
    "\\begin{align}\n",
    "    \\frac{\\partial \\Psi}{\\partial r}(r=1, \\theta, \\phi) &= g(\\theta, \\phi),\\\\\n",
    "    \\frac{\\partial \\Psi}{\\partial \\theta} (r = r_{\\text{PFSS}}, \\theta, \\phi) &= \\frac{\\partial \\Psi}{\\partial \\phi} (r=r_{\\text{PFSS}}, \\theta, \\phi) = 0,\\\\\n",
    "    \\Psi(r= r_{\\text{PFSS}}, \\theta, \\phi) &= 0,\\\\\n",
    "    \\Psi(r, \\theta, \\phi=0) &= \\Psi(r, \\theta, \\phi=2\\pi),\\\\\n",
    "    \\Psi(r, \\theta=\\{0, \\pi\\}, \\phi) &= \\frac{1}{2\\pi} \\int_{\\phi=0}^{\\phi=2\\pi} \\Psi(r, \\theta=\\{0 \\pm \\epsilon, \\pi \\pm \\epsilon\\}, \\phi) \\text{d} \\phi,\n",
    "\\end{align}\n",
    "where $g(\\theta, \\phi)$ is set to the GONG data. The PFSS model can be solved via finite-difference numerical schemes or alternatively by spherical harmonic expansion. The upper boundary is usually set to $r_{\\text{PFSS}} = 2.5 R_{S}$ to best match observations. "
   ]
  },
  {
   "cell_type": "code",
   "execution_count": null,
   "id": "ae2fe03f",
   "metadata": {},
   "outputs": [],
   "source": [
    "# pfss parameters + simulate\n",
    "pfss_in = pfsspy.Input(br=gong_map, nr=100, rss=2.5)\n",
    "pfss_out = pfsspy.pfss(pfss_in)"
   ]
  },
  {
   "cell_type": "code",
   "execution_count": null,
   "id": "ad85dacd",
   "metadata": {},
   "outputs": [],
   "source": [
    "fig, ax = plt.subplots(ncols=2, sharex=True, sharey=True, figsize=(10, 3.5))\n",
    "pos = ax[0].imshow(gong_map.data, extent=[0,360,-90, 90], origin=\"lower\", aspect=\"auto\", cmap=\"seismic\", vmin=-30, vmax=30)\n",
    "\n",
    "ax[0].set_xticks([0, 90, 180, 270, 360])\n",
    "ax[0].set_yticks([-90, -45, 0, 45, 90])\n",
    "cbar = fig.colorbar(pos, ax=ax[0], orientation=\"vertical\")\n",
    "cbar.ax.set_ylabel(r'$B_{r}(r=1R_{S})$ [Gauss]', rotation=90)\n",
    "ax[0].set_xlim(0, 360)\n",
    "ax[0].set_xlabel(\"Carrington Longitude [Deg.]\")\n",
    "ax[0].set_ylabel(\"Carrington Latitude [Deg.]\")\n",
    "ax[0].set_title(\"Photosphere\")\n",
    "plt.tight_layout()\n",
    "\n",
    "pos = ax[1].imshow(pfss_out.source_surface_br.data, extent=[0,360,-90, 90], origin=\"lower\", aspect=\"auto\", cmap=\"seismic\", vmin=-0.2, vmax=0.2)\n",
    "cbar = fig.colorbar(pos, ax=ax[1], orientation=\"vertical\")\n",
    "cbar.ax.set_ylabel(r'$B_{r}(r=2.5R_{S})$ [Gauss]', rotation=90)\n",
    "ax[1].set_xlabel(\"Carrington Longitude [Deg.]\")\n",
    "ax[1].set_title(\"Source Surface \")\n",
    "plt.savefig(\"figs/CR\" + str(CR) + \"/pfss_result.png\")"
   ]
  },
  {
   "cell_type": "code",
   "execution_count": null,
   "id": "bd29e0ef",
   "metadata": {},
   "outputs": [],
   "source": [
    "tracer = tracing.FortranTracer()\n",
    "r = 1.2 * const.R_sun\n",
    "lat = np.linspace(-np.pi / 2, np.pi / 2, 15)\n",
    "lon = np.linspace(0, 2 * np.pi, 15)\n",
    "lat, lon = np.meshgrid(lat, lon, indexing='ij')\n",
    "lat, lon = lat.ravel() * u.rad, lon.ravel() * u.rad\n",
    "\n",
    "seeds = SkyCoord(lon, lat, r, frame=pfss_out.coordinate_frame)\n",
    "field_lines = tracer.trace(seeds, pfss_out)"
   ]
  },
  {
   "cell_type": "code",
   "execution_count": null,
   "id": "f871b6a1",
   "metadata": {},
   "outputs": [],
   "source": [
    "fig = plt.figure(constrained_layout=True, figsize=(7, 5))\n",
    "ax = fig.add_subplot(111, projection='3d')\n",
    "\n",
    "for field_line in field_lines:\n",
    "    color = {0: 'black', -1: 'tab:blue', 1: 'tab:red'}.get(field_line.polarity)\n",
    "    coords = field_line.coords\n",
    "    coords.representation_type = 'cartesian'\n",
    "    ax.plot(coords.x / const.R_sun,\n",
    "            coords.y / const.R_sun,\n",
    "            coords.z / const.R_sun,\n",
    "            color=color, linewidth=0.9)\n",
    "ax.set_xlabel(r\"Carrington X [$R_{S}$]\")\n",
    "ax.set_ylabel(r\"Carrington Y [$R_{S}$]\")\n",
    "ax.set_zlabel(r\"Carrington Z [$R_{S}$]\")\n",
    "plt.savefig(\"figs/CR\" + str(CR) + \"/PFSS_field_lines_spherical_CR\"+ str(CR) + \".png\", dpi=600)"
   ]
  },
  {
   "cell_type": "code",
   "execution_count": null,
   "id": "77952cbd",
   "metadata": {},
   "outputs": [],
   "source": [
    "fig = plt.figure(constrained_layout=True, figsize=(7, 5))\n",
    "ax = fig.add_subplot(111, projection='3d')\n",
    "\n",
    "for field_line in field_lines:\n",
    "    color = {0: 'black', -1: 'tab:blue', 1: 'tab:red'}.get(field_line.polarity)\n",
    "    coords = field_line.coords\n",
    "    coords.representation_type = 'spherical'\n",
    "    ax.scatter(\n",
    "            coords.lon.value,\n",
    "            coords.lat.value,\n",
    "            coords.radius / const.R_sun,\n",
    "            color=color, s=0.1)\n",
    "\n",
    "ax.set_zlim(1, 2.5)\n",
    "ax.set_xticks([0, 90, 180, 270, 360])\n",
    "ax.set_yticks([-90, -45, 0, 45, 90])\n",
    "ax.set_xlabel(\"Longitude [Deg.]\")\n",
    "ax.set_ylabel(\"Latitude [Deg.]\")\n",
    "ax.set_zlabel(r\"Radial Distance [$R_{S}$]\")\n",
    "plt.tight_layout()\n",
    "plt.savefig(\"figs/CR\" + str(CR) + \"/PFSS_field_lines_cartesian.png\", dpi=600)"
   ]
  },
  {
   "cell_type": "markdown",
   "id": "33c9ea77",
   "metadata": {},
   "source": [
    "# Magnetic Expansion Factor"
   ]
  },
  {
   "cell_type": "code",
   "execution_count": null,
   "id": "2512184e",
   "metadata": {},
   "outputs": [],
   "source": [
    "# trace the magnetic field lines for the ACE projection to obtain the expansion factor\n",
    "tracer = tracing.FortranTracer()\n",
    "seeds = SkyCoord(earth_coords.lon.to(u.rad), earth_coords.lat.to(u.rad), 2.5 * const.R_sun, frame=pfss_out.coordinate_frame)\n",
    "field_lines_fp = tracer.trace(seeds, pfss_out)\n",
    "fp_ace_traj = field_lines_fp.expansion_factors"
   ]
  },
  {
   "cell_type": "code",
   "execution_count": null,
   "id": "a0a259be",
   "metadata": {},
   "outputs": [],
   "source": [
    "fig, ax = plt.subplots(figsize=(7,4))\n",
    "_ = ax.scatter(earth_coords.lon, np.log(fp_ace_traj), s=1)\n",
    "_ = ax.set_xticks([0, 55, 112, 167, 223, 278, 333, 360])\n",
    "_ = ax.set_xlabel(\"Carrington Longtiude [Deg.]\")\n",
    "_ = ax.set_title(\"PFSS Magnetic Expansion Factor \\n at ACE's Projected Trajectory\")\n",
    "plt.gca().invert_xaxis()\n",
    "_ = ax.set_xlim(360, 0)\n",
    "_ = ax.set_ylabel(\"$\\ln(f_{p})$\")\n",
    "plt.tight_layout()\n",
    "plt.savefig(\"figs/CR\" + str(CR) + \"/magentic_expansion_factor.png\", dpi=800)"
   ]
  },
  {
   "cell_type": "markdown",
   "id": "a3c36dd7",
   "metadata": {},
   "source": [
    "# Coronal Hole Mapping"
   ]
  },
  {
   "cell_type": "code",
   "execution_count": null,
   "id": "788b88d3",
   "metadata": {},
   "outputs": [],
   "source": [
    "topologies = pfss2flines(pfss_out)\n",
    "expansion_factor = pfss2flines(pfss_out, trace_from_SS=True)"
   ]
  },
  {
   "cell_type": "code",
   "execution_count": null,
   "id": "0c0fe9ed",
   "metadata": {},
   "outputs": [],
   "source": [
    "lons = np.linspace(0,360,361)\n",
    "lats = np.linspace(-90,90,181)\n",
    "fig,ax = plt.subplots(ncols =2, sharex=True, sharey=True, figsize=(10,3.5))\n",
    "pos = ax[0].pcolormesh(lons,lats,topologies,cmap=\"coolwarm\")\n",
    "cbar = fig.colorbar(pos, ax=ax[0], orientation=\"vertical\")\n",
    "cbar.ax.set_ylabel(r'', rotation=90)\n",
    "pos = ax[1].pcolormesh(lons,lats,np.log(expansion_factor))\n",
    "cbar = fig.colorbar(pos, ax=ax[1], orientation=\"vertical\")\n",
    "cbar.ax.set_ylabel(r'$\\ln(f_{p})$ [radians]', rotation=90)\n",
    "_ = ax[0].set_xlabel(\"Carrington Longitude [deg.]\")\n",
    "_ = ax[1].set_xlabel(\"Carrington Longitude [deg.]\")\n",
    "_ = ax[0].set_ylabel(\"Latitude [deg.]\")\n",
    "_ = ax[0].set_xticks(np.linspace(0,360,5))\n",
    "_ = ax[0].set_yticks(np.linspace(-90,90,5))\n",
    "_ = ax[0].set_title(r\"Coronal Hole Map\")\n",
    "_ = ax[1].set_title(r\"Magnetic Expansion Factor\")\n",
    "\n",
    "for ii in range(7, len(ACE_longitude.to(u.rad))-5):\n",
    "    if ii % 15==0:\n",
    "        field_line = field_lines_fp[ii]\n",
    "        coords = field_line.coords\n",
    "        color= {0: 'black', -1: 'blue', 1: 'red'}.get(field_line.polarity)\n",
    "        ax[0].scatter(coords.lon, coords.lat, c=color, s=0.05)\n",
    "\n",
    "plt.tight_layout()\n",
    "plt.savefig(\"figs/CR\" + str(CR) + \"/coronal_hole_plot_CR\" + str(CR) + \".png\", dpi=600)"
   ]
  },
  {
   "cell_type": "markdown",
   "id": "8086f722",
   "metadata": {},
   "source": [
    "### Great-circle angular distance from the nearest coronal hole boundary at the photosphere $d$"
   ]
  },
  {
   "cell_type": "markdown",
   "id": "cb2a38e2",
   "metadata": {},
   "source": [
    "$d = \\arccos\\left[\\cos(\\theta_{1}) \\cos(\\theta_{2}) \\cos(\\phi_{1}- \\phi_{2}) + \\sin(\\theta_{1}) \\sin(\\theta_{2})\\right]$"
   ]
  },
  {
   "cell_type": "code",
   "execution_count": null,
   "id": "8d50033b",
   "metadata": {},
   "outputs": [],
   "source": [
    "d = distance_to_coronal_hole_boundary(topologies, field_lines_fp)"
   ]
  },
  {
   "cell_type": "code",
   "execution_count": null,
   "id": "207c6fb4",
   "metadata": {},
   "outputs": [],
   "source": [
    "fig, ax = plt.subplots(figsize=(6,4))\n",
    "#_ = ax.plot(p_interp, d_ace_traj, label=\"interpolated\")\n",
    "_ = ax.scatter(earth_coords.lon, d, s=2, c=\"k\")\n",
    "\n",
    "_ = ax.set_xticks([0, 50, 100, 150,  200, 250, 300, 360])\n",
    "plt.gca().invert_xaxis()\n",
    "_ = ax.set_xlim(360, 0)\n",
    "_ = ax.set_ylim(0, 0.09)\n",
    "_ = ax.set_xlabel(\"Carrington Longtiude [Deg.]\")\n",
    "_ = ax.set_title(\"Distance to Coronal Hole Boundary\\n at ACE's Projected Trajectory\")\n",
    "_ = ax.set_ylabel(\"$d [radians]$\")\n",
    "#_ = ax.legend()\n",
    "plt.tight_layout()\n",
    "plt.savefig(\"figs/CR\" + str(CR) + \"/distance_to_coronal_hole_boundary_CR\" + str(CR) + \".png\", dpi=600)"
   ]
  },
  {
   "cell_type": "markdown",
   "id": "2e9d7cb1",
   "metadata": {},
   "source": [
    "# WSA\n",
    "\n",
    "WSA is an empirical model of the ambient solar wind. The WSA model is based on the inverse relationship between the solar wind speed and the magnetic field expansion\n",
    "factor $f_{p}$ and the minimum angular distance that an open field\n",
    "footpoint lies from the nearest coronal hole boundary $d$, such that\n",
    "\\begin{equation}\n",
    "    f_{p} = \\left(\\frac{1}{r_{\\text{SS}}}\\right)^2\\frac{B_{r}(r_{0}, \\theta_{0}, \\phi_{0})}{B_{r}(r_{SS}, \\theta_{1}, \\phi_{1})}\n",
    "\\end{equation}\n",
    "where the indicies $0$ and $1$ refer to the longitude and latitude at the solar surface and upper boundary. These values are obtained by tracing the field lines down from $r_{SS}$ using a 4th order Runge Kutta scheme. The WSA model relation is given by \n",
    "\\begin{equation}\n",
    "    v_{\\text{wsa}}(f_{p}, d) = v_{0} + \\frac{v_{1} - v_{0}}{(1+f_{p})^{\\alpha}} \\left(\\beta - \\gamma \\exp \\left(-\\left(\\frac{d}{\\omega}\\right)^{\\delta} \\right)\\right)^{\\psi}\n",
    "\\end{equation}\n",
    "The authors in [(Kumar et al. 2020)](https://www.frontiersin.org/articles/10.3389/fspas.2020.572084/full) set $v_{0} = 250 \\frac{\\text{km}}{\\text{s}}$, $v_{1} = 900 \\frac{\\text{km}}{\\text{s}}$, $\\alpha = 1.5/9$, $\\beta = 1$, $\\gamma = 0.8$, $\\omega = 0.03$, $\\delta = 1.5$, $\\psi=3$.\n",
    "\n",
    "\n",
    "The authors in [(Bailey et al. 2021)](https://agupubs.onlinelibrary.wiley.com/doi/full/10.1029/2020SW002673) set $v_{0} = 250 \\frac{\\text{km}}{\\text{s}}$, $v_{1} = 650 \\frac{\\text{km}}{\\text{s}}$, $\\alpha = 0.19$, $\\beta = 1$, $\\gamma = 0.8$, $\\omega = 3^{\\circ}$, $\\delta = 1.75$, $\\psi = 3$.\n",
    "\n",
    "\n",
    "The authors in [(Reiss et al. 2016)](https://agupubs.onlinelibrary.wiley.com/doi/epdf/10.1002/2016SW001390) set $v_{0} = 250 \\frac{\\text{km}}{\\text{s}}$, $v_{1} = 1125 \\frac{\\text{km}}{\\text{s}}$, $\\alpha = 0.2$, $\\beta = 1$, $\\gamma = 0.8$, $\\omega = 2.6^{\\circ}$, $\\delta = 1.25$, $\\psi = 2.5$.\n"
   ]
  },
  {
   "cell_type": "code",
   "execution_count": null,
   "id": "00a5eb0b",
   "metadata": {},
   "outputs": [],
   "source": [
    "v0 = 250\n",
    "v1 = 850\n",
    "alpha= 0.4\n",
    "beta = 1.25\n",
    "gamma = 0.2\n",
    "w = 0.01 # to radians\n",
    "delta = 1.75\n",
    "psi=3\n",
    "\n",
    "# dchb\n",
    "omega = 0.05\n",
    "epsilon = 0.01\n",
    "v0_dchb = 250\n",
    "v1_dchb = 750"
   ]
  },
  {
   "cell_type": "code",
   "execution_count": null,
   "id": "ec379e75",
   "metadata": {},
   "outputs": [],
   "source": [
    "v_wsa = v0 + (v1 - v0)/((1+fp_ace_traj)**alpha) * (beta - gamma* np.exp(-(d/w)**delta))**psi\n",
    "v_ws = v0 + (v1 - v0)/(fp_ace_traj)**alpha\n",
    "v_dchb = v0 + 0.5*(v1_dchb - v0_dchb) * (1 + np.tanh((d - epsilon)/omega))"
   ]
  },
  {
   "cell_type": "code",
   "execution_count": null,
   "id": "0ae2a322",
   "metadata": {},
   "outputs": [],
   "source": [
    "p_hux = np.linspace(0, 2*np.pi, len(earth_coords.lon))\n",
    "\n",
    "v_wsa_interp = interpolate_ace_data(x=p_hux, xp=earth_coords.lon.to(u.rad).value, fp=v_wsa, period=2*np.pi)\n",
    "v_ws_interp = interpolate_ace_data(x=p_hux, xp=earth_coords.lon.to(u.rad).value, fp=v_ws, period=2*np.pi)\n",
    "v_dchb_interp = interpolate_ace_data(x=p_hux, xp=earth_coords.lon.to(u.rad).value, fp=v_dchb, period=2*np.pi)"
   ]
  },
  {
   "cell_type": "code",
   "execution_count": null,
   "id": "27eae6af",
   "metadata": {},
   "outputs": [],
   "source": [
    "fig, ax = plt.subplots(figsize=(8, 4))\n",
    "_ = ax.scatter(earth_coords.lon, v_wsa, c=\"orange\", label=\"WSA\", s=1)\n",
    "_ = ax.scatter(earth_coords.lon, v_ws,  label=\"WS\",c=\"green\", s=1)\n",
    "_ = ax.scatter(earth_coords.lon, v_dchb,label=\"DCHB\", c=\"blue\",s=1)\n",
    "_ = ax.plot(p_hux*180/np.pi, v_wsa_interp, c=\"orange\",label=\"WSA\")\n",
    "_ = ax.plot(p_hux*180/np.pi, v_ws_interp, c=\"green\", label=\"WS\")\n",
    "_ = ax.plot(p_hux*180/np.pi, v_dchb_interp, c=\"blue\",label=\"DCHB\")\n",
    "_ = ax.set_xticks([0, 90, 180, 270, 360])\n",
    "_ = ax.set_xlim(0, 360)\n",
    "#_ = ax.set_ylim(0, 900)\n",
    "_ = ax.set_xlabel(\"Carrington Longitude [Deg.]\")\n",
    "_ = ax.set_ylabel(\"Solar Wind Velocity [km/s]\")\n",
    "_ = ax.set_title(r\"WS/WSA/DCHB results at $r_{SS}$\")\n",
    "ax.legend()"
   ]
  },
  {
   "cell_type": "code",
   "execution_count": null,
   "id": "0e2207b3",
   "metadata": {},
   "outputs": [],
   "source": [
    "np.cos(np.mean(np.pi/2 - earth_coords.lat.to(u.rad).value))**2"
   ]
  },
  {
   "cell_type": "code",
   "execution_count": null,
   "id": "8ff878a3",
   "metadata": {},
   "outputs": [],
   "source": [
    "r_vec = (np.linspace(2.5, np.max(ACE_r.to(u.solRad)).value, 500) * u.solRad).to(u.km).value\n",
    "dr_vec = r_vec[1:] - r_vec[:-1]\n",
    "dp_vec = p_hux[1:] - p_hux[:-1]\n",
    "\n",
    "vr_hux_wsa = apply_hux_f_model(initial_condition=v_wsa_interp, \n",
    "                               dr_vec=dr_vec, \n",
    "                               dp_vec=dp_vec, \n",
    "                               alpha=0.15,\n",
    "                               r0=2.5, \n",
    "                               rh=50, \n",
    "                               theta=np.mean(np.pi/2 - earth_coords.lat.to(u.rad).value))\n",
    "vr_hux_ws = apply_hux_f_model(initial_condition=v_ws_interp, \n",
    "                              dr_vec=dr_vec, \n",
    "                              dp_vec=dp_vec, \n",
    "                              alpha=0.15, \n",
    "                              r0=2.5, \n",
    "                              rh=50, \n",
    "                              theta=np.mean(np.pi/2 - earth_coords.lat.to(u.rad).value))\n",
    "vr_hux_dchb = apply_hux_f_model(initial_condition=v_dchb_interp, \n",
    "                                dr_vec=dr_vec, \n",
    "                                dp_vec=dp_vec, \n",
    "                                alpha=0.15,\n",
    "                                r0=2.5, \n",
    "                                rh=50, \n",
    "                                theta=np.mean(np.pi/2 - earth_coords.lat.to(u.rad).value))"
   ]
  },
  {
   "cell_type": "code",
   "execution_count": null,
   "id": "412f0f44",
   "metadata": {},
   "outputs": [],
   "source": [
    "fig, ax = plt.subplots(figsize=(8, 3))\n",
    "ax.plot(p_hux*180/np.pi, vr_hux_wsa[-1, :], \"b\", label=r\"$PFSS \\rightarrow WSA \\rightarrow HUX$\")\n",
    "ax.plot(p_hux*180/np.pi, vr_hux_ws[-1, :], \"r\", label=r\"$PFSS \\rightarrow WS \\rightarrow HUX$\")\n",
    "ax.plot(p_hux*180/np.pi, vr_hux_dchb[-1, :], \"orange\", label=r\"$PFSS \\rightarrow DCHB \\rightarrow HUX$\")\n",
    "ax.scatter(ACE_longitude,  ACE_vr, s=1, c=\"k\", label=\"ACE Observations at L1\")\n",
    "ax.set_title(\"CR \"+ str(CR))\n",
    "ax.set_xticks([0, 90, 180, 270, 360])\n",
    "ax.set_xlim(0, 360)\n",
    "ax.set_xlabel(\"Carrington Longitude [Deg.]\")\n",
    "ax.set_ylabel(\"Solar Wind \\n Radial Velocity [km/s]\")\n",
    "ax.legend()"
   ]
  },
  {
   "cell_type": "code",
   "execution_count": null,
   "id": "4a5a0546",
   "metadata": {},
   "outputs": [],
   "source": [
    "vr_wsa_interp = interp_2d_ace_hux(p_hux, r_vec, vr_hux_wsa, ACE_r, ACE_longitude)\n",
    "vr_ws_interp = interp_2d_ace_hux(p_hux, r_vec, vr_hux_ws, ACE_r, ACE_longitude)"
   ]
  },
  {
   "cell_type": "code",
   "execution_count": null,
   "id": "774a9df3",
   "metadata": {},
   "outputs": [],
   "source": [
    "fig, ax = plt.subplots(figsize=(10, 4))\n",
    "ax.plot(ACE_obstime.value, vr_wsa_interp, \"b\", label=r\"$PFSS \\rightarrow WSA \\rightarrow HUX$\")\n",
    "ax.plot(ACE_obstime.value,  ACE_vr, c=\"k\", ls=\"--\", label=\"ACE Observations at L1\")\n",
    "ax.set_title(\"CR \" + str(CR))\n",
    "ax.set_ylabel(\"Solar Wind Radial Velocity [km/s]\")\n",
    "ax.legend()\n",
    "ax.set_ylim(250, 900)\n",
    "\n",
    "plt.gca().xaxis.set_major_formatter(mdates.DateFormatter('%Y-%m-%d'))\n",
    "plt.gca().xaxis.set_major_locator(mdates.DayLocator(interval=100))\n",
    "plt.savefig(\"figs/CR\" + str(CR) + \"/ACE_radial_velocity_CR\" + str(CR) + \".png\", dpi=600)"
   ]
  },
  {
   "cell_type": "code",
   "execution_count": null,
   "id": "22c74223",
   "metadata": {},
   "outputs": [],
   "source": []
  },
  {
   "cell_type": "code",
   "execution_count": null,
   "id": "db724cfd",
   "metadata": {},
   "outputs": [],
   "source": []
  }
 ],
 "metadata": {
  "kernelspec": {
   "display_name": "Python 3 (ipykernel)",
   "language": "python",
   "name": "python3"
  },
  "language_info": {
   "codemirror_mode": {
    "name": "ipython",
    "version": 3
   },
   "file_extension": ".py",
   "mimetype": "text/x-python",
   "name": "python",
   "nbconvert_exporter": "python",
   "pygments_lexer": "ipython3",
   "version": "3.9.13"
  }
 },
 "nbformat": 4,
 "nbformat_minor": 5
}
